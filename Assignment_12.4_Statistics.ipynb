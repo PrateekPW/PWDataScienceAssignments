{
 "cells": [
  {
   "cell_type": "markdown",
   "id": "4404c62e-e29a-45fc-adde-f98587f5438a",
   "metadata": {},
   "source": [
    "Q1. Write a Python function that takes in two arrays of data and calculates the F-value for a variance ratio \n",
    "test. The function should return the F-value and the corresponding p-value for the test.\n",
    "\n",
    " Q2. Given a significance level of 0.05 and the degrees of freedom for the numerator and denominator of an \n",
    "F-distribution, write a Python function that returns the critical F-value for a two-tailed test.\n",
    "\n",
    " Q3. Write a Python program that generates random samples from two normal distributions with known \n",
    "variances and uses an F-test to determine if the variances are equal. The program should output the F\n",
    "value, degrees of freedom, and p-value for the test.\n",
    "\n",
    " Q4.The variances of two populations are known to be 10 and 15. A sample of 12 observations is taken from \n",
    "each population. Conduct an F-test at the 5% significance level to determine if the variances are \n",
    "significantly different.\n",
    "\n",
    " Q5. A manufacturer claims that the variance of the diameter of a certain product is 0.005. A sample of 25 \n",
    "products is taken, and the sample variance is found to be 0.006. Conduct an F-test at the 1% significance \n",
    "level to determine if the claim is justified.\n",
    "\n",
    " Q6. Write a Python function that takes in the degrees of freedom for the numerator and denominator of an \n",
    "F-distribution and calculates the mean and variance of the distribution. The function should return the \n",
    "mean and variance as a tuple.\n",
    "\n",
    " Q7. A random sample of 10 measurements is taken from a normal population with unknown variance. The \n",
    "sample variance is found to be 25. Another random sample of 15 measurements is taken from another \n",
    "normal population with unknown variance, and the sample variance is found to be 20. Conduct an F-test \n",
    "at the 10% significance level to determine if the variances are significantly different.\n",
    "\n",
    " Q8. The following data represent the waiting times in minutes at two different restaurants on a Saturday \n",
    "night: Restaurant A: 24, 25, 28, 23, 22, 20, 27; Restaurant B: 31, 33, 35, 30, 32, 36. Conduct an F-test at the 5% \n",
    "significance level to determine if the variances are significantly different.\n",
    "\n",
    " Q9. The following data represent the test scores of two groups of students: Group A: 80, 85, 90, 92, 87, 83; \n",
    "Group B: 75, 78, 82, 79, 81, 84. Conduct an F-test at the 1% significance level to determine if the variances \n",
    "are significantly different"
   ]
  },
  {
   "cell_type": "code",
   "execution_count": 1,
   "id": "1b1a6403-9c96-40c8-b1c4-35f66f3ae81e",
   "metadata": {},
   "outputs": [
    {
     "name": "stdout",
     "output_type": "stream",
     "text": [
      "F-value: 1.4551907719609583, p-value: 0.6974815747937484\n"
     ]
    }
   ],
   "source": [
    "# Q1. Python Function for F-Value and P-Value Calculation\n",
    "\n",
    "import numpy as np\n",
    "from scipy.stats import f\n",
    "\n",
    "def variance_ratio_test(data1, data2):\n",
    "    var1 = np.var(data1, ddof=1)\n",
    "    var2 = np.var(data2, ddof=1)\n",
    "    \n",
    "    f_value = var1 / var2 if var1 > var2 else var2 / var1\n",
    "    dfn = len(data1) - 1\n",
    "    dfd = len(data2) - 1\n",
    "    \n",
    "    p_value = 2 * min(f.cdf(f_value, dfn, dfd), 1 - f.cdf(f_value, dfn, dfd))\n",
    "    \n",
    "    return f_value, p_value\n",
    "\n",
    "# Example usage:\n",
    "data1 = [24, 25, 28, 23, 22, 20, 27]\n",
    "data2 = [31, 33, 35, 30, 32, 36]\n",
    "f_value, p_value = variance_ratio_test(data1, data2)\n",
    "print(f\"F-value: {f_value}, p-value: {p_value}\")\n"
   ]
  },
  {
   "cell_type": "code",
   "execution_count": 2,
   "id": "19ac30e5-269b-4257-881e-5c7de056672c",
   "metadata": {},
   "outputs": [
    {
     "name": "stdout",
     "output_type": "stream",
     "text": [
      "Critical F-value: 3.060196851411249\n"
     ]
    }
   ],
   "source": [
    "# Q2. Python Function for Critical F-Value Calculation\n",
    "\n",
    "from scipy.stats import f\n",
    "\n",
    "def critical_f_value(alpha, dfn, dfd):\n",
    "    return f.ppf(1 - alpha / 2, dfn, dfd)\n",
    "\n",
    "# Example usage:\n",
    "alpha = 0.05\n",
    "dfn = 10\n",
    "dfd = 15\n",
    "critical_value = critical_f_value(alpha, dfn, dfd)\n",
    "print(f\"Critical F-value: {critical_value}\")\n",
    "\n"
   ]
  },
  {
   "cell_type": "code",
   "execution_count": 3,
   "id": "60b16fd3-575a-439a-8439-6913300b67b9",
   "metadata": {},
   "outputs": [
    {
     "name": "stdout",
     "output_type": "stream",
     "text": [
      "F-value: 1.9027466011873022, dfn: 29, dfd: 29, p-value: 0.08858209761326585\n"
     ]
    }
   ],
   "source": [
    "# Q3. Python Program for F-Test on Generated Samples\n",
    "\n",
    "import numpy as np\n",
    "from scipy.stats import f\n",
    "\n",
    "# Generate random samples\n",
    "np.random.seed(42)\n",
    "data1 = np.random.normal(loc=0, scale=3, size=30)  # Population variance = 3^2\n",
    "data2 = np.random.normal(loc=0, scale=4, size=30)  # Population variance = 4^2\n",
    "\n",
    "# F-test\n",
    "var1 = np.var(data1, ddof=1)\n",
    "var2 = np.var(data2, ddof=1)\n",
    "\n",
    "f_value = var1 / var2 if var1 > var2 else var2 / var1\n",
    "dfn = len(data1) - 1\n",
    "dfd = len(data2) - 1\n",
    "\n",
    "p_value = 2 * min(f.cdf(f_value, dfn, dfd), 1 - f.cdf(f_value, dfn, dfd))\n",
    "\n",
    "print(f\"F-value: {f_value}, dfn: {dfn}, dfd: {dfd}, p-value: {p_value}\")\n",
    "\n"
   ]
  },
  {
   "cell_type": "code",
   "execution_count": 4,
   "id": "29895f2d-a402-4296-afa1-b3424405523b",
   "metadata": {},
   "outputs": [
    {
     "name": "stdout",
     "output_type": "stream",
     "text": [
      "F-value: 1.5, Critical F-value: 3.473699051085809, p-value: 0.5123897987357995\n"
     ]
    }
   ],
   "source": [
    "# Q4. F-Test with Known Variances and Sample Size\n",
    "\n",
    "from scipy.stats import f\n",
    "\n",
    "# Given data\n",
    "var1 = 10\n",
    "var2 = 15\n",
    "n1 = 12\n",
    "n2 = 12\n",
    "\n",
    "f_value = var1 / var2 if var1 > var2 else var2 / var1\n",
    "dfn = n1 - 1\n",
    "dfd = n2 - 1\n",
    "alpha = 0.05\n",
    "\n",
    "critical_value = f.ppf(1 - alpha / 2, dfn, dfd)\n",
    "p_value = 2 * min(f.cdf(f_value, dfn, dfd), 1 - f.cdf(f_value, dfn, dfd))\n",
    "\n",
    "print(f\"F-value: {f_value}, Critical F-value: {critical_value}, p-value: {p_value}\")\n",
    "\n"
   ]
  },
  {
   "cell_type": "code",
   "execution_count": 5,
   "id": "a13b564b-d518-47ce-a67c-cb10ae0cfe8e",
   "metadata": {},
   "outputs": [
    {
     "name": "stdout",
     "output_type": "stream",
     "text": [
      "F-value: 1.2, Critical F-value: 2.966741631292762, p-value: 0.6587309365634488\n"
     ]
    }
   ],
   "source": [
    "# Q5. F-Test for Manufacturer's Claim\n",
    "\n",
    "from scipy.stats import f\n",
    "\n",
    "# Given data\n",
    "claimed_variance = 0.005\n",
    "sample_variance = 0.006\n",
    "n = 25\n",
    "\n",
    "f_value = sample_variance / claimed_variance\n",
    "dfn = n - 1\n",
    "dfd = n - 1\n",
    "alpha = 0.01\n",
    "\n",
    "critical_value = f.ppf(1 - alpha / 2, dfn, dfd)\n",
    "p_value = 2 * min(f.cdf(f_value, dfn, dfd), 1 - f.cdf(f_value, dfn, dfd))\n",
    "\n",
    "print(f\"F-value: {f_value}, Critical F-value: {critical_value}, p-value: {p_value}\")\n",
    "\n"
   ]
  },
  {
   "cell_type": "code",
   "execution_count": 6,
   "id": "331cf649-1dcc-46b2-94d6-80b207180419",
   "metadata": {},
   "outputs": [
    {
     "name": "stdout",
     "output_type": "stream",
     "text": [
      "Mean: 1.25, Variance: 1.3541666666666667\n"
     ]
    }
   ],
   "source": [
    "# Q6. Python Function to Calculate Mean and Variance of F-Distribution\n",
    "\n",
    "def f_distribution_mean_variance(dfn, dfd):\n",
    "    if dfd > 2:\n",
    "        mean = dfd / (dfd - 2)\n",
    "    else:\n",
    "        mean = np.nan  # Mean is not defined for dfd <= 2\n",
    "    \n",
    "    if dfd > 4:\n",
    "        variance = 2 * dfd**2 * (dfn + dfd - 2) / (dfn * (dfd - 2)**2 * (dfd - 4))\n",
    "    else:\n",
    "        variance = np.nan  # Variance is not defined for dfd <= 4\n",
    "    \n",
    "    return mean, variance\n",
    "\n",
    "# Example usage:\n",
    "dfn = 5\n",
    "dfd = 10\n",
    "mean, variance = f_distribution_mean_variance(dfn, dfd)\n",
    "print(f\"Mean: {mean}, Variance: {variance}\")\n",
    "\n"
   ]
  },
  {
   "cell_type": "code",
   "execution_count": 7,
   "id": "c421b876-05c5-472a-9eec-9f9560346c0e",
   "metadata": {},
   "outputs": [
    {
     "name": "stdout",
     "output_type": "stream",
     "text": [
      "F-value: 1.25, Critical F-value: 2.6457907352338195, p-value: 0.6832194382585954\n"
     ]
    }
   ],
   "source": [
    "# Q7. F-Test with Sample Variances\n",
    "\n",
    "from scipy.stats import f\n",
    "\n",
    "# Given data\n",
    "var1 = 25\n",
    "var2 = 20\n",
    "n1 = 10\n",
    "n2 = 15\n",
    "\n",
    "f_value = var1 / var2 if var1 > var2 else var2 / var1\n",
    "dfn = n1 - 1\n",
    "dfd = n2 - 1\n",
    "alpha = 0.10\n",
    "\n",
    "critical_value = f.ppf(1 - alpha / 2, dfn, dfd)\n",
    "p_value = 2 * min(f.cdf(f_value, dfn, dfd), 1 - f.cdf(f_value, dfn, dfd))\n",
    "\n",
    "print(f\"F-value: {f_value}, Critical F-value: {critical_value}, p-value: {p_value}\")\n",
    "\n"
   ]
  },
  {
   "cell_type": "code",
   "execution_count": 8,
   "id": "d72621d6-8595-4c64-be53-92d5bfa9b2b4",
   "metadata": {},
   "outputs": [
    {
     "name": "stdout",
     "output_type": "stream",
     "text": [
      "F-value: 1.4551907719609583, Critical F-value: 6.977701858535566, p-value: 0.6974815747937484\n"
     ]
    }
   ],
   "source": [
    "# Q8. F-Test for Waiting Times at Two Restaurants\n",
    "\n",
    "from scipy.stats import f\n",
    "\n",
    "# Given data\n",
    "restaurant_a = [24, 25, 28, 23, 22, 20, 27]\n",
    "restaurant_b = [31, 33, 35, 30, 32, 36]\n",
    "\n",
    "var_a = np.var(restaurant_a, ddof=1)\n",
    "var_b = np.var(restaurant_b, ddof=1)\n",
    "\n",
    "f_value = var_a / var_b if var_a > var_b else var_b / var_a\n",
    "dfn = len(restaurant_a) - 1\n",
    "dfd = len(restaurant_b) - 1\n",
    "alpha = 0.05\n",
    "\n",
    "critical_value = f.ppf(1 - alpha / 2, dfn, dfd)\n",
    "p_value = 2 * min(f.cdf(f_value, dfn, dfd), 1 - f.cdf(f_value, dfn, dfd))\n",
    "\n",
    "print(f\"F-value: {f_value}, Critical F-value: {critical_value}, p-value: {p_value}\")\n",
    "\n"
   ]
  },
  {
   "cell_type": "code",
   "execution_count": 9,
   "id": "f1244184-dd3a-48cf-941e-32cc1f19a325",
   "metadata": {},
   "outputs": [
    {
     "name": "stdout",
     "output_type": "stream",
     "text": [
      "F-value: 1.9442622950819677, Critical F-value: 14.939605459912224, p-value: 0.4831043549070688\n"
     ]
    }
   ],
   "source": [
    "# Q9. F-Test for Test Scores of Two Groups of Students\n",
    "\n",
    "from scipy.stats import f\n",
    "\n",
    "# Given data\n",
    "group_a = [80, 85, 90, 92, 87, 83]\n",
    "group_b = [75, 78, 82, 79, 81, 84]\n",
    "\n",
    "var_a = np.var(group_a, ddof=1)\n",
    "var_b = np.var(group_b, ddof=1)\n",
    "\n",
    "f_value = var_a / var_b if var_a > var_b else var_b / var_a\n",
    "dfn = len(group_a) - 1\n",
    "dfd = len(group_b) - 1\n",
    "alpha = 0.01\n",
    "\n",
    "critical_value = f.ppf(1 - alpha / 2, dfn, dfd)\n",
    "p_value = 2 * min(f.cdf(f_value, dfn, dfd), 1 - f.cdf(f_value, dfn, dfd))\n",
    "\n",
    "print(f\"F-value: {f_value}, Critical F-value: {critical_value}, p-value: {p_value}\")"
   ]
  },
  {
   "cell_type": "code",
   "execution_count": null,
   "id": "f9931af7-fd1c-44ba-bec5-85513c6f1e80",
   "metadata": {},
   "outputs": [],
   "source": []
  }
 ],
 "metadata": {
  "kernelspec": {
   "display_name": "Python 3 (ipykernel)",
   "language": "python",
   "name": "python3"
  },
  "language_info": {
   "codemirror_mode": {
    "name": "ipython",
    "version": 3
   },
   "file_extension": ".py",
   "mimetype": "text/x-python",
   "name": "python",
   "nbconvert_exporter": "python",
   "pygments_lexer": "ipython3",
   "version": "3.10.8"
  }
 },
 "nbformat": 4,
 "nbformat_minor": 5
}
