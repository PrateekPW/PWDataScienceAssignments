{
 "cells": [
  {
   "cell_type": "markdown",
   "id": "363072ff-1698-49aa-b6a4-71cab35d534b",
   "metadata": {},
   "source": [
    "Q1. Calculate the 95% confidence interval for a sample of data with a mean of 50 and a standard deviation \n",
    "of 5 using Python. Interpret the results.\n",
    "\n",
    " Q2. Conduct a chi-square goodness of fit test to determine if the distribution of colors of M&Ms in a bag \n",
    "matches the expected distribution of 20% blue, 20% orange, 20% green, 10% yellow, 10% red, and 20% \n",
    "brown. Use Python to perform the test with a significance level of 0.05.\n",
    "\n",
    "Q3. Use Python to calculate the chi-square statistic and p-value for a contingency table with the following \n",
    "data:\n",
    "\n",
    "smoked. Use Python to calculate the 95% confidence interval for the true proportion of individuals in the \n",
    "population who smoke.\n",
    " Q5. Calculate the 90% confidence interval for a sample of data with a mean of 75 and a standard deviation \n",
    "of 12 using Python. Interpret the results.\n",
    "\n",
    " Q6. Use Python to plot the chi-square distribution with 10 degrees of freedom. Label the axes and shade the \n",
    "area corresponding to a chi-square statistic of 15.\n",
    "\n",
    " Q7. A random sample of 1000 people was asked if they preferred Coke or Pepsi. Of the sample, 520 \n",
    "preferred Coke. Calculate a 99% confidence interval for the true proportion of people in the population who \n",
    "prefer Coke.\n",
    "\n",
    " Q8. A researcher hypothesizes that a coin is biased towards tails. They flip the coin 100 times and observe \n",
    "45 tails. Conduct a chi-square goodness of fit test to determine if the observed frequencies match the \n",
    "expected frequencies of a fair coin. Use a significance level of 0.05.\n",
    "\n",
    " Q9. A study was conducted to determine if there is an association between smoking status (smoker or \n",
    "non-smoker) and lung cancer diagnosis (yes or no). The results are shown in the contingency table below. \n",
    "Conduct a chi-square test for independence to determine if there is a significant association between \n",
    "smoking status and lung cancer diagnosis.\n",
    "\n",
    " Q10. A study was conducted to determine if the proportion of people who prefer milk chocolate, dark \n",
    "chocolate, or white chocolate is different in the U.S. versus the U.K. A random sample of 500 people from \n",
    "the U.S. and a random sample of 500 people from the U.K. were surveyed. The results are shown in the \n",
    "contingency table below. Conduct a chi-square test for independence to determine if there is a significant \n",
    "association between chocolate preference and country of origin.\n",
    "\n",
    " Q11. A random sample of 30 people was selected from a population with an unknown mean and standard \n",
    "deviation. The sample mean was found to be 72 and the sample standard deviation was found to be 10. \n",
    "Conduct a hypothesis test to determine if the population mean is significantly different from 70. Use a \n",
    "significance level of 0.05."
   ]
  },
  {
   "cell_type": "code",
   "execution_count": 1,
   "id": "86f335a1-c33f-4458-9845-5a6b9c15f1e1",
   "metadata": {},
   "outputs": [
    {
     "data": {
      "text/plain": [
       "(48.210805856282846, 51.789194143717154)"
      ]
     },
     "execution_count": 1,
     "metadata": {},
     "output_type": "execute_result"
    }
   ],
   "source": [
    "# Q1\n",
    "import scipy.stats as stats\n",
    "\n",
    "# Given data\n",
    "sample_mean = 50\n",
    "std_dev = 5\n",
    "sample_size = 30\n",
    "confidence_level = 0.95\n",
    "\n",
    "# Z-value for 95% confidence\n",
    "z_value = stats.norm.ppf((1 + confidence_level) / 2)\n",
    "\n",
    "# Margin of error\n",
    "margin_of_error = z_value * (std_dev / (sample_size ** 0.5))\n",
    "\n",
    "# Confidence interval\n",
    "confidence_interval = (sample_mean - margin_of_error, sample_mean + margin_of_error)\n",
    "confidence_interval"
   ]
  },
  {
   "cell_type": "code",
   "execution_count": 2,
   "id": "350a3a67-2b66-46da-baa4-085415a478dc",
   "metadata": {},
   "outputs": [
    {
     "data": {
      "text/plain": [
       "(0.6, 0.9880032427940937)"
      ]
     },
     "execution_count": 2,
     "metadata": {},
     "output_type": "execute_result"
    }
   ],
   "source": [
    "# Q2\n",
    "import scipy.stats as stats\n",
    "import numpy as np\n",
    "\n",
    "# Observed frequencies\n",
    "observed_frequencies = np.array([18, 22, 20, 9, 11, 20])\n",
    "\n",
    "# Expected frequencies\n",
    "total_mms = observed_frequencies.sum()\n",
    "expected_proportions = np.array([0.2, 0.2, 0.2, 0.1, 0.1, 0.2])\n",
    "expected_frequencies = total_mms * expected_proportions\n",
    "\n",
    "# Chi-square goodness of fit test\n",
    "chi_square_stat, p_value = stats.chisquare(observed_frequencies, expected_frequencies)\n",
    "\n",
    "chi_square_stat, p_value"
   ]
  },
  {
   "cell_type": "code",
   "execution_count": null,
   "id": "b71f917f-d1b8-4629-bd47-f4a8eb99116f",
   "metadata": {},
   "outputs": [],
   "source": [
    "#Q3\n",
    "import scipy.stats as stats\n",
    "c1=np.array([20,10,15])\n",
    "c2=np.array([15,25,20])\n",
    "chisquare_test_statistics,p_value=stats.chisquare(c1,c2)\n",
    "print(chisquare_test_statistics,p_value)"
   ]
  },
  {
   "cell_type": "markdown",
   "id": "de302842-4d44-4893-a843-7ba3e9be2a01",
   "metadata": {},
   "source": [
    "Q4: 95% Confidence Interval for True Proportion\n",
    "\n",
    "Where p is the sample proportion and Z is the z-value corresponding to the 95% confidence level (1.96)."
   ]
  },
  {
   "cell_type": "code",
   "execution_count": 10,
   "id": "a57f4d77-92b6-47d5-af1e-61c2bead0d5b",
   "metadata": {},
   "outputs": [
    {
     "data": {
      "text/plain": [
       "(0.09151638887130707, 0.1484836111286929)"
      ]
     },
     "execution_count": 10,
     "metadata": {},
     "output_type": "execute_result"
    }
   ],
   "source": [
    "import scipy.stats as stats\n",
    "\n",
    "# Given data\n",
    "n = 500\n",
    "x = 60\n",
    "confidence_level = 0.95\n",
    "\n",
    "# Sample proportion\n",
    "p_hat = x / n\n",
    "\n",
    "# Z-value for 95% confidence\n",
    "z_value = stats.norm.ppf((1 + confidence_level) / 2)\n",
    "\n",
    "# Margin of error\n",
    "margin_of_error = z_value * ((p_hat * (1 - p_hat) / n) ** 0.5)\n",
    "\n",
    "# Confidence interval\n",
    "confidence_interval = (p_hat - margin_of_error, p_hat + margin_of_error)\n",
    "confidence_interval"
   ]
  },
  {
   "cell_type": "code",
   "execution_count": 11,
   "id": "9be19f23-a98d-4419-abb5-c774db5eaae9",
   "metadata": {},
   "outputs": [
    {
     "data": {
      "text/plain": [
       "(71.39630625889797, 78.60369374110203)"
      ]
     },
     "execution_count": 11,
     "metadata": {},
     "output_type": "execute_result"
    }
   ],
   "source": [
    "# Q5: 90% Confidence Interval for Sample Mean\n",
    "sample_mean = 75\n",
    "std_dev = 12\n",
    "sample_size = 30\n",
    "confidence_level = 0.90\n",
    "\n",
    "# Z-value for 90% confidence\n",
    "z_value = stats.norm.ppf((1 + confidence_level) / 2)\n",
    "\n",
    "# Margin of error\n",
    "margin_of_error = z_value * (std_dev / (sample_size ** 0.5))\n",
    "\n",
    "# Confidence interval\n",
    "confidence_interval = (sample_mean - margin_of_error, sample_mean + margin_of_error)\n",
    "confidence_interval"
   ]
  },
  {
   "cell_type": "code",
   "execution_count": 15,
   "id": "6f63a1a0-36b0-42aa-8271-5c02a67e9291",
   "metadata": {},
   "outputs": [
    {
     "data": {
      "image/png": "[encoded data removed]",
      "text/plain": [
       "<Figure size 640x480 with 1 Axes>"
      ]
     },
     "metadata": {},
     "output_type": "display_data"
    }
   ],
   "source": [
    "# Q6: Plot the Chi-Square Distribution with 10 Degrees of Freedom\n",
    "import numpy as np\n",
    "import matplotlib.pyplot as plt\n",
    "\n",
    "# Chi-square distribution with 10 degrees of freedom\n",
    "df = 10\n",
    "x = np.linspace(0, 30, 1000)\n",
    "y = stats.chi2.pdf(x, df)\n",
    "\n",
    "# Plotting\n",
    "plt.plot(x, y, label='Chi-square distribution (df=10)')\n",
    "plt.fill_between(x, 0, y, where=(x <= 15), color='gray', alpha=0.5)\n",
    "plt.axvline(x=15, color='red', linestyle='--', label='Chi-square stat = 15')\n",
    "plt.xlabel('Chi-square value')\n",
    "plt.ylabel('Probability density')\n",
    "plt.title('Chi-square Distribution with 10 Degrees of Freedom')\n",
    "plt.legend()\n",
    "plt.show()"
   ]
  },
  {
   "cell_type": "code",
   "execution_count": 16,
   "id": "32e0203e-a6a1-4767-bb85-41b7db3737f3",
   "metadata": {},
   "outputs": [
    {
     "data": {
      "text/plain": [
       "(0.4793051576779699, 0.5606948423220302)"
      ]
     },
     "execution_count": 16,
     "metadata": {},
     "output_type": "execute_result"
    }
   ],
   "source": [
    "# Q7: 99% Confidence Interval for Proportion Preferring Coke\n",
    "n = 1000\n",
    "x = 520\n",
    "confidence_level = 0.99\n",
    "\n",
    "# Sample proportion\n",
    "p_hat = x / n\n",
    "\n",
    "# Z-value for 99% confidence\n",
    "z_value = stats.norm.ppf((1 + confidence_level) / 2)\n",
    "\n",
    "# Margin of error\n",
    "margin_of_error = z_value * ((p_hat * (1 - p_hat) / n) ** 0.5)\n",
    "\n",
    "# Confidence interval\n",
    "confidence_interval = (p_hat - margin_of_error, p_hat + margin_of_error)\n",
    "confidence_interval"
   ]
  },
  {
   "cell_type": "code",
   "execution_count": 17,
   "id": "848d4625-94fe-4cb1-963e-165f3fcc5a09",
   "metadata": {},
   "outputs": [
    {
     "data": {
      "text/plain": [
       "(1.0, 0.31731050786291115)"
      ]
     },
     "execution_count": 17,
     "metadata": {},
     "output_type": "execute_result"
    }
   ],
   "source": [
    "# Q8\n",
    "observed_frequencies = np.array([45, 55])  # 45 tails and 55 heads\n",
    "expected_frequencies = np.array([50, 50])  # Expected frequencies for a fair coin\n",
    "\n",
    "# Chi-square goodness of fit test\n",
    "chi_square_stat, p_value = stats.chisquare(observed_frequencies, expected_frequencies)\n",
    "\n",
    "chi_square_stat, p_value"
   ]
  },
  {
   "cell_type": "code",
   "execution_count": 20,
   "id": "7701c94e-335c-4d11-9fcd-1d475b1141ca",
   "metadata": {},
   "outputs": [
    {
     "name": "stdout",
     "output_type": "stream",
     "text": [
      "35.294117647058826 2.834869930488155e-09\n",
      "3.841458820694124\n",
      "We reject the null hypothesis\n"
     ]
    }
   ],
   "source": [
    "# Q9\n",
    "smoker=[60,140]\n",
    "nonsmoker=[30,170]\n",
    "chisquare_test_statistics,p_value=stats.chisquare(smoker,nonsmoker)\n",
    "print(chisquare_test_statistics,p_value)\n",
    "significance_value=0.05\n",
    "dof=1\n",
    "critical_value=stats.chi2.ppf(1-significance_value,dof)\n",
    "print(critical_value)\n",
    "if chisquare_test_statistics>critical_value:\n",
    "    print(\"We reject the null hypothesis\")\n",
    "else: print(\"Accept the null hypothesis\")"
   ]
  },
  {
   "cell_type": "code",
   "execution_count": 21,
   "id": "ce21cf14-6070-4484-b4ce-d4247729c93a",
   "metadata": {},
   "outputs": [
    {
     "name": "stdout",
     "output_type": "stream",
     "text": [
      "35.294117647058826 2.834869930488155e-09\n",
      "3.841458820694124\n",
      "We reject the null hypothesis\n"
     ]
    }
   ],
   "source": [
    "# Q10\n",
    "us=[200,150,150]\n",
    "uk=[225,175,100]\n",
    "chisquare_test_statistics,p_value=stats.chisquare(smoker,nonsmoker)\n",
    "print(chisquare_test_statistics,p_value)\n",
    "significance_value=0.05\n",
    "dof=1\n",
    "critical_value=stats.chi2.ppf(1-significance_value,dof)\n",
    "print(critical_value)\n",
    "if chisquare_test_statistics>critical_value:\n",
    "    print(\"We reject the null hypothesis\")\n",
    "else: print(\"Accept the null hypothesis\")"
   ]
  },
  {
   "cell_type": "code",
   "execution_count": null,
   "id": "abf6686d-d63c-40fe-986f-631dc3fc167c",
   "metadata": {},
   "outputs": [],
   "source": []
  }
 ],
 "metadata": {
  "kernelspec": {
   "display_name": "Python 3 (ipykernel)",
   "language": "python",
   "name": "python3"
  },
  "language_info": {
   "codemirror_mode": {
    "name": "ipython",
    "version": 3
   },
   "file_extension": ".py",
   "mimetype": "text/x-python",
   "name": "python",
   "nbconvert_exporter": "python",
   "pygments_lexer": "ipython3",
   "version": "3.10.8"
  }
 },
 "nbformat": 4,
 "nbformat_minor": 5
}
