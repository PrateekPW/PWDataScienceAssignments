{
 "cells": [
  {
   "cell_type": "markdown",
   "id": "6741aa62-7ed8-432c-92bc-d4566a5c3645",
   "metadata": {},
   "source": [
    "Q1: Difference between a t-test and a z-test\n",
    "A t-test and a z-test are both used to compare means, but they are used under different conditions:\n",
    "\n",
    "t-test: Used when the sample size is small (typically less than 30) and/or the population standard deviation is unknown. The t-test accounts for the additional uncertainty by using the t-distribution.\n",
    "\n",
    "Example Scenario: A researcher wants to compare the mean test scores of a small class of 20 students to the national average.\n",
    "z-test: Used when the sample size is large (typically 30 or more) and the population standard deviation is known. The z-test uses the standard normal distribution.\n",
    "\n",
    "Example Scenario: A company wants to compare the average height of its 100 employees to the national average, knowing the population standard deviation of heights.\n"
   ]
  },
  {
   "cell_type": "markdown",
   "id": "d3924703-7e39-434c-967b-b7a09ca9ee6d",
   "metadata": {},
   "source": [
    "Q2: One-tailed vs. Two-tailed Tests\n",
    "One-tailed test: Tests for the possibility of the relationship in one direction only.\n",
    "\n",
    "Example: Testing if a new drug is more effective than the current one (greater than).\n",
    "Two-tailed test: Tests for the possibility of the relationship in both directions.\n",
    "\n",
    "Example: Testing if a new drug is either more or less effective than the current one (different from).\n"
   ]
  },
  {
   "cell_type": "markdown",
   "id": "3ccc1de5-b18a-405d-b38d-9e75d71bb37c",
   "metadata": {},
   "source": [
    "Q3: Type 1 and Type 2 Errors\n",
    "Type 1 Error (False Positive): Rejecting the null hypothesis when it is actually true.\n",
    "\n",
    "Example: Concluding that a new medication is effective when it actually isn't.\n",
    "Type 2 Error (False Negative): Failing to reject the null hypothesis when it is actually false.\n",
    "\n",
    "Example: Concluding that a new medication is not effective when it actually is.\n"
   ]
  },
  {
   "cell_type": "markdown",
   "id": "e3807cd7-9690-4436-ba65-726b0ef937b0",
   "metadata": {},
   "source": [
    "Q4: Bayes's Theorem\n",
    "Bayes's theorem describes the probability of an event based on prior knowledge of conditions related to the event.\n",
    "Example: If 1% of a population has a disease, and a test correctly identifies the disease 99% of the time but has a 5% false positive rate, Bayes's theorem helps calculate the probability that a person actually has the disease given a positive test result."
   ]
  },
  {
   "cell_type": "markdown",
   "id": "55226c82-ab14-4733-9641-7949dda2be75",
   "metadata": {},
   "source": [
    "Q5: Confidence Interval\n",
    "A confidence interval gives an estimated range of values which is likely to include an unknown population parameter."
   ]
  },
  {
   "cell_type": "markdown",
   "id": "5735cfe9-83ac-4386-a8fc-1f54cadce78b",
   "metadata": {},
   "source": [
    "Q6: Bayes' Theorem Calculation\n",
    "Problem: A test for a disease is 99% accurate (true positive rate) and has a 5% false positive rate. If 1% of the population has the disease, calculate the probability that a person has the disease given a positive test result."
   ]
  },
  {
   "cell_type": "markdown",
   "id": "1ba0ae58-cec4-471c-86ce-a5f75699ef44",
   "metadata": {},
   "source": [
    "Q7: 95% Confidence Interval Calculation \n",
    "Thus, the 95% confidence interval is:\n",
    "(48.21,51.79)"
   ]
  },
  {
   "cell_type": "markdown",
   "id": "66687c39-fbc0-4c10-bb3e-ac64d3fcb191",
   "metadata": {},
   "source": [
    "Q8: Margin of Error\n",
    "The margin of error in a confidence interval is the range of values above and below the sample statistic.\n",
    "Example Scenario: In a survey, a larger sample size results in more precise estimates of the population parameter, thus reducing the margin of error."
   ]
  },
  {
   "cell_type": "markdown",
   "id": "96827c11-c2c0-423c-9148-f59efdbc5731",
   "metadata": {},
   "source": [
    "Q9: Z-score Calculation\n",
    "This indicates that the data point is 1 standard deviation above the mean."
   ]
  },
  {
   "cell_type": "markdown",
   "id": "4c99aa72-e061-4e33-aaa2-acecb787df11",
   "metadata": {},
   "source": [
    "Q10: Hypothesis Test for Weight Loss Drug\n",
    "With 49 degrees of freedom, this t-value is significantly high, indicating that the drug is effective."
   ]
  },
  {
   "cell_type": "markdown",
   "id": "3b31473e-1c06-4627-a962-2453afab2602",
   "metadata": {},
   "source": [
    "Q11: Confidence Interval for Proportion\n",
    "Thus, the 95% confidence interval is:\n",
    "(0.608,0.692)"
   ]
  },
  {
   "cell_type": "markdown",
   "id": "c02f663f-e00b-4571-a2b8-4b376054db95",
   "metadata": {},
   "source": [
    "Q12: Hypothesis Test for Teaching Methods\n",
    "If sample sizes are equal and large, this can simplify to a high t-value indicating significant difference at\n",
    "α=0.01."
   ]
  },
  {
   "cell_type": "markdown",
   "id": "0a642037-9b2b-4533-98e0-f361e5040618",
   "metadata": {},
   "source": [
    "Q13: 90% Confidence Interval for Population Mean\n",
    "Thus, the 90% confidence interval is:\n",
    "(63.14,66.86)"
   ]
  },
  {
   "cell_type": "markdown",
   "id": "a8d63336-16d3-426b-bbd2-fbef3f11d5e6",
   "metadata": {},
   "source": [
    "Q14: Hypothesis Test for Caffeine Effect\n",
    "With 29 degrees of freedom, this t-value is significantly high, indicating that caffeine has a significant effect on reaction time."
   ]
  }
 ],
 "metadata": {
  "kernelspec": {
   "display_name": "Python 3 (ipykernel)",
   "language": "python",
   "name": "python3"
  },
  "language_info": {
   "codemirror_mode": {
    "name": "ipython",
    "version": 3
   },
   "file_extension": ".py",
   "mimetype": "text/x-python",
   "name": "python",
   "nbconvert_exporter": "python",
   "pygments_lexer": "ipython3",
   "version": "3.10.8"
  }
 },
 "nbformat": 4,
 "nbformat_minor": 5
}
