{
 "cells": [
  {
   "cell_type": "markdown",
   "id": "44763f45-e831-4b47-972d-81dcfc141472",
   "metadata": {},
   "source": [
    "# Q1. Pearson correlation coefficient is a measure of the linear relationship between two variables. Suppose you have collected data on the amount of time students spend studying for an exam and their final exam scores. Calculate the Pearson correlation coefficient between these two variables and interpret the result.\n",
    "\n",
    "Ans\n",
    "\n",
    "To calculate the Pearson correlation coefficient between the amount of time students spend studying for an exam and their final exam scores, you would follow these steps:\n",
    "\n",
    "Collect data on the amount of time each student spends studying for the exam and their corresponding final exam scores.\n",
    "\n",
    "Calculate the Pearson correlation coefficient using the formula mentioned earlier.\n",
    "\n",
    "Interpret the result:\n",
    "\n",
    "If the correlation coefficient is close to 1, it indicates a strong positive linear relationship, suggesting that as study time increases, exam scores also tend to increase.\n",
    "If the correlation coefficient is close to -1, it indicates a strong negative linear relationship, suggesting that as study time increases, exam scores tend to decrease.\n",
    "If the correlation coefficient is close to 0, it suggests little to no linear relationship between study time and exam scores."
   ]
  },
  {
   "cell_type": "markdown",
   "id": "e215f60a-f724-4960-8ca7-032c5a38cfab",
   "metadata": {},
   "source": [
    "# Q2. Spearman's rank correlation is a measure of the monotonic relationship between two variables.Suppose you have collected data on the amount of sleep individuals get each night and their overall job satisfaction level on a scale of 1 to 10. Calculate the Spearman's rank correlation between these two variables and interpret the result.\n",
    "\n",
    "Ans\n",
    "\n",
    "To calculate Spearman's rank correlation coefficient between the amount of sleep individuals get each night and their overall job satisfaction level:\n",
    "\n",
    "Collect data on the amount of sleep each individual gets each night and their corresponding job satisfaction level.\n",
    "\n",
    "Rank the data for each variable separately.\n",
    "\n",
    "Calculate the differences in ranks for each pair of data points.\n",
    "\n",
    "Calculate Spearman's rank correlation coefficient using the formula.\n",
    "\n",
    "Interpret the result:\n",
    "\n",
    "If the Spearman's rank correlation coefficient is close to 1, it indicates a strong positive monotonic relationship, suggesting that as one variable increases, the other tends to increase.\n",
    "If the coefficient is close to -1, it indicates a strong negative monotonic relationship, suggesting that as one variable increases, the other tends to decrease.\n",
    "If the coefficient is close to 0, it suggests little to no monotonic relationship between the variables."
   ]
  },
  {
   "cell_type": "markdown",
   "id": "21a56346-25f3-4340-a8a0-6f665beb4615",
   "metadata": {},
   "source": [
    "# Q3. Suppose you are conducting a study to examine the relationship between the number of hours of exercise per week and body mass index (BMI) in a sample of adults. You collected data on both variables for 50 participants. Calculate the Pearson correlation coefficient and the Spearman's rank correlation between these two variables and compare the results.\n",
    "\n",
    "Ans\n",
    "\n",
    " To compare Pearson correlation coefficient and Spearman's rank correlation coefficient for the relationship between the number of hours of exercise per week and BMI:\n",
    "\n",
    "Collect data on the number of hours of exercise per week and the corresponding BMI for each participant.\n",
    "\n",
    "Calculate both Pearson and Spearman correlation coefficients.\n",
    "\n",
    "Compare the results:\n",
    "\n",
    "If both coefficients are similar, it suggests a linear relationship between the variables.\n",
    "If Spearman's coefficient is higher than Pearson's coefficient, it suggests a monotonic relationship that might not necessarily be linear.\n",
    "If Pearson's coefficient is higher than Spearman's coefficient, it suggests the relationship might be influenced by outliers or non-monotonic patterns."
   ]
  },
  {
   "cell_type": "markdown",
   "id": "85d485e0-65b8-4289-9b45-a8f2815be013",
   "metadata": {},
   "source": [
    "# Q4. A researcher is interested in examining the relationship between the number of hours individuals spend watching television per day and their level of physical activity. The researcher collected data on both variables from a sample of 50 participants. Calculate the Pearson correlation coefficient between these two variables.\n",
    "\n",
    "Ans\n",
    "\n",
    "To calculate the Pearson correlation coefficient between the number of hours individuals spend watching television per day and their level of physical activity:\n",
    "\n",
    "Collect data on the number of hours spent watching television per day and the corresponding level of physical activity for each participant.\n",
    "\n",
    "Calculate the Pearson correlation coefficient using the formula mentioned earlier.\n",
    "\n",
    "Interpret the result:\n",
    "\n",
    "Similar interpretation as Q1 applies here, where a coefficient close to 1 indicates a positive linear relationship, close to -1 indicates a negative linear relationship, and close to 0 indicates little to no linear relationship between the variables."
   ]
  },
  {
   "cell_type": "markdown",
   "id": "832fcce4-875c-443b-a687-a8cabdcc8f9d",
   "metadata": {},
   "source": [
    "# Q5. A survey was conducted to examine the relationship between age and preference for a particular brand of soft drink. The survey results are shown below:\n",
    "# Age(years)                                                        Soft Drink preference\n",
    "# 25                                                                  Coke \n",
    "# 42                                                                    Pepsi\n",
    "# 37                                                                    Mountain Dew\n",
    "# 19                                                                       Coke\n",
    "# 31                                                                       Pepsi\n",
    "# 28                                                                        coke\n",
    "\n",
    "\n",
    "Ans\n",
    "\n",
    "To examine the relationship between age and preference for a particular brand of soft drink, you can't directly calculate correlation coefficients like Pearson or Spearman's rank correlation because age is not a continuous variable in this dataset. However, you can analyze the data by examining the frequency distribution of soft drink preferences within different age groups.\n",
    "\n",
    "Here's how you could analyze the data:\n",
    "\n",
    "Group the data by age group: Divide the respondents into different age groups (e.g., 18-25, 26-35, 36-45, etc.).\n",
    "\n",
    "Count the frequency of each soft drink preference within each age group: Count how many respondents in each age group prefer Coke, Pepsi, Mountain Dew, or any other soft drink.\n",
    "\n",
    "Analyze the results: Look for patterns or trends in soft drink preferences across different age groups. You can create bar charts or frequency tables to visualize the data.\n",
    "\n",
    "This analysis will give you insights into whether there's any relationship between age and soft drink preference based on the given survey results. However, keep in mind that this analysis is limited to the specific respondents in the survey and may not generalize to the entire population."
   ]
  },
  {
   "cell_type": "markdown",
   "id": "6a546f81-6853-49cf-a3bf-44eb607cbf1e",
   "metadata": {},
   "source": [
    "# Q6. A company is interested in examining the relationship between the number of sales calls made per day and the number of sales made per week. The company collected data on both variables from a sample of 30 sales representatives. Calculate the Pearson correlation coefficient between these two variables.\n",
    "\n",
    "Ans\n",
    "\n",
    "To calculate the Pearson correlation coefficient between the number of hours individuals spend watching television per day and their level of physical activity:\n",
    "\n",
    "Collect data on the number of hours spent watching television per day and the corresponding level of physical activity for each participant.\n",
    "\n",
    "Calculate the Pearson correlation coefficient using the formula mentioned earlier.\n",
    "\n",
    "Interpret the result:\n",
    "\n",
    "Similar interpretation as Q1 applies here, where a coefficient close to 1 indicates a positive linear relationship, close to -1 indicates a negative linear relationship, and close to 0 indicates little to no linear relationship between the variables."
   ]
  }
 ],
 "metadata": {
  "kernelspec": {
   "display_name": "Python 3 (ipykernel)",
   "language": "python",
   "name": "python3"
  },
  "language_info": {
   "codemirror_mode": {
    "name": "ipython",
    "version": 3
   },
   "file_extension": ".py",
   "mimetype": "text/x-python",
   "name": "python",
   "nbconvert_exporter": "python",
   "pygments_lexer": "ipython3",
   "version": "3.10.8"
  }
 },
 "nbformat": 4,
 "nbformat_minor": 5
}
