{
 "cells": [
  {
   "cell_type": "markdown",
   "id": "40c7fa39-6922-4e31-9458-c0a79f0d2756",
   "metadata": {},
   "source": [
    "## Q1. Explain Class and Object with respect to Object-Oriented Programming. Give a suitable example."
   ]
  },
  {
   "cell_type": "markdown",
   "id": "91df6fe9-2938-4995-9a61-3c22abdf89bd",
   "metadata": {},
   "source": [
    "## ANS In Object-Oriented Programming (OOP), a class is a blueprint or a template for creating objects. It defines a set of attributes and methods that the objects instantiated from the class will have. An object, on the other hand, is an instance of a class, and it represents a real-world entity that has a state and behavior."
   ]
  },
  {
   "cell_type": "code",
   "execution_count": 1,
   "id": "81db4e81-c39f-492e-b6a4-4258582e66bd",
   "metadata": {},
   "outputs": [],
   "source": [
    "class pwskills1 :\n",
    "    \n",
    "    ## self is not a reserved keyword we can give any thing\n",
    "    def __init__(self , phone , email , stdid):\n",
    "        self.phone123=phone\n",
    "        self.email123=email\n",
    "        self.stdid123=stdid\n",
    "    def retur(self):\n",
    "        return self.phone123,self.email123,self.stdid123"
   ]
  },
  {
   "cell_type": "code",
   "execution_count": 2,
   "id": "836ea1b1-9c8c-460b-9fd5-2fa59cf80d17",
   "metadata": {},
   "outputs": [
    {
     "data": {
      "text/plain": [
       "(82606, 'pksk@gmail', 12345)"
      ]
     },
     "execution_count": 2,
     "metadata": {},
     "output_type": "execute_result"
    }
   ],
   "source": [
    "rohan=pwskills1(82606,'pksk@gmail',12345)\n",
    "rohan.retur()"
   ]
  },
  {
   "cell_type": "markdown",
   "id": "84169691-211b-4dd5-afc4-fddd3ddf524f",
   "metadata": {},
   "source": [
    "## Q2. Name the four pillars of OOPs."
   ]
  },
  {
   "cell_type": "markdown",
   "id": "194a9de7-64a5-4b3f-922e-939655455bcf",
   "metadata": {},
   "source": [
    "## Ans The four pillars are-\n",
    "## a.Encapsulation\n",
    "## b.Inheritance\n",
    "## c.Abstraction\n",
    "## d.Polymorphism "
   ]
  },
  {
   "cell_type": "markdown",
   "id": "a9dad959-eb9f-4d1c-8b67-09e9d24df35b",
   "metadata": {},
   "source": [
    "## Q3. Explain why the __init__() function is used. Give a suitable example."
   ]
  },
  {
   "cell_type": "markdown",
   "id": "635e2e37-41c8-4b74-8f07-cf11180086bf",
   "metadata": {},
   "source": [
    "## Ans. In object-oriented programming, the __init__() function is a special method, also known as a constructor, that is automatically called when an object is created from a class. Its primary purpose is to initialize the attributes of the object and set them to specific values. The __init__() method allows you to define the initial state of the object when it is instantiated."
   ]
  },
  {
   "cell_type": "code",
   "execution_count": 3,
   "id": "c8bb21e1-b21b-40e8-a474-84bee6212c4c",
   "metadata": {},
   "outputs": [],
   "source": [
    "class car:\n",
    "    def __init__(self,year,make,model,speed):\n",
    "        self.__year=year\n",
    "        self.__make=make\n",
    "        self.__model=model\n",
    "        self.__speed=0 if speed<0 else speed\n",
    "    def set_speed(self,speed):\n",
    "        self.__speed=0 if speed<0 else speed\n",
    "    def get_speed(self):\n",
    "        return self.__speed\n",
    "    def ret(self):\n",
    "        return  self.__year,self.__make,self.__model,self.__speed"
   ]
  },
  {
   "cell_type": "code",
   "execution_count": 4,
   "id": "02dca13b-adc6-4ece-b379-bdbc1213005e",
   "metadata": {},
   "outputs": [],
   "source": [
    "c=car(2022,\"Toyota\",\"Inova\",100)"
   ]
  },
  {
   "cell_type": "code",
   "execution_count": 5,
   "id": "2f2f2e44-32d7-4901-9299-f052afde70c2",
   "metadata": {},
   "outputs": [
    {
     "data": {
      "text/plain": [
       "2022"
      ]
     },
     "execution_count": 5,
     "metadata": {},
     "output_type": "execute_result"
    }
   ],
   "source": [
    "c._car__year"
   ]
  },
  {
   "cell_type": "markdown",
   "id": "6f4ab7a1-d0ba-4811-a2f8-ca41cf9a91fb",
   "metadata": {},
   "source": [
    "## Q4. Why self is used in OOPs?"
   ]
  },
  {
   "cell_type": "markdown",
   "id": "4dac7632-04d3-40da-8e64-3c5264c628ed",
   "metadata": {},
   "source": [
    "## In object-oriented programming (OOP), self is a conventional name used to represent the instance of the class within the class itself. It is a reference to the current instance of the class and is passed as the first parameter to methods in the class. "
   ]
  },
  {
   "cell_type": "markdown",
   "id": "6be7eeec-24d6-41e8-825b-16449f9cd81a",
   "metadata": {},
   "source": [
    "## Q5. What is inheritance? Give an example for each type of inheritance."
   ]
  },
  {
   "cell_type": "markdown",
   "id": "2849d16d-e447-41bf-8a72-ac86fa6838c5",
   "metadata": {},
   "source": [
    "## Ans. Inheritance is one of the four fundamental principles of object-oriented programming (OOP), and it is a mechanism that allows a new class (called the subclass or derived class) to inherit properties and behaviors (attributes and methods) from an existing class (called the superclass or base class). Inheritance promotes code reuse and establishes a relationship between classes."
   ]
  },
  {
   "cell_type": "code",
   "execution_count": 6,
   "id": "e9bf1011-cf55-4952-a76c-ffa9c139200c",
   "metadata": {},
   "outputs": [],
   "source": [
    "class test:\n",
    "    def tes(self):\n",
    "        return \"This is my class\""
   ]
  },
  {
   "cell_type": "code",
   "execution_count": 7,
   "id": "4c72945d-786d-4399-9df2-27e67be7bb04",
   "metadata": {},
   "outputs": [],
   "source": [
    "class test2(test):\n",
    "    pass"
   ]
  },
  {
   "cell_type": "code",
   "execution_count": 8,
   "id": "27ad726c-5d9b-49f1-8f94-e6885ec72fc4",
   "metadata": {},
   "outputs": [],
   "source": [
    "t=test2()"
   ]
  },
  {
   "cell_type": "code",
   "execution_count": 9,
   "id": "68a8e29f-b683-4d3b-9fb6-53cc92ee6d35",
   "metadata": {},
   "outputs": [
    {
     "data": {
      "text/plain": [
       "'This is my class'"
      ]
     },
     "execution_count": 9,
     "metadata": {},
     "output_type": "execute_result"
    }
   ],
   "source": [
    "t.tes()"
   ]
  },
  {
   "cell_type": "code",
   "execution_count": null,
   "id": "14e11ce4-b56d-4b13-a8d1-7b825c75bd07",
   "metadata": {},
   "outputs": [],
   "source": []
  }
 ],
 "metadata": {
  "kernelspec": {
   "display_name": "Python 3 (ipykernel)",
   "language": "python",
   "name": "python3"
  },
  "language_info": {
   "codemirror_mode": {
    "name": "ipython",
    "version": 3
   },
   "file_extension": ".py",
   "mimetype": "text/x-python",
   "name": "python",
   "nbconvert_exporter": "python",
   "pygments_lexer": "ipython3",
   "version": "3.10.8"
  }
 },
 "nbformat": 4,
 "nbformat_minor": 5
}
