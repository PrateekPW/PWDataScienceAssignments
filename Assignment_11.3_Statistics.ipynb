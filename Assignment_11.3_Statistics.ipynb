{
 "cells": [
  {
   "cell_type": "markdown",
   "id": "a9fa366f-ba8c-4b43-9811-a29994283873",
   "metadata": {},
   "source": [
    "Q1: What is Estimation Statistics? Explain point estimate and interval estimate.\n",
    "\n",
    "Q2. Write a Python function to estimate the population mean using a sample mean and standard\n",
    "deviation.\n",
    "\n",
    "Q3: What is Hypothesis testing? Why is it used? State the importance of Hypothesis testing.\n",
    "\n",
    "Q4. Create a hypothesis that states whether the average weight of male college students is greater than\n",
    "the average weight of female college students.\n",
    "\n",
    "Q5. Write a Python script to conduct a hypothesis test on the difference between two population means,\n",
    "given a sample from each population.\n",
    "\n",
    "Q6: What is a null and alternative hypothesis? Give some examples.\n",
    "\n",
    "Q7: Write down the steps involved in hypothesis testing.\n",
    "\n",
    "Q8. Define p-value and explain its significance in hypothesis testing.\n",
    "\n",
    "Q9. Generate a Student's t-distribution plot using Python's matplotlib library, with the degrees of freedom\n",
    "parameter set to 10.\n",
    "\n",
    "Q10. Write a Python program to calculate the two-sample t-test for independent samples, given two\n",
    "random samples of equal size and a null hypothesis that the population means are equal.\n",
    "\n",
    "Q11: What is Student’s t distribution? When to use the t-Distribution.\n",
    "\n",
    "Q12: What is t-statistic? State the formula for t-statistic.\n",
    "\n",
    "Q13. A coffee shop owner wants to estimate the average daily revenue for their shop. They take a random\n",
    "sample of 50 days and find the sample mean revenue to be $500 with a standard deviation of $50.\n",
    "Estimate the population mean revenue with a 95% confidence interval.\n",
    "\n",
    "Q14. A researcher hypothesizes that a new drug will decrease blood pressure by 10 mmHg. They conduct a\n",
    "clinical trial with 100 patients and find that the sample mean decrease in blood pressure is 8 mmHg with a\n",
    "standard deviation of 3 mmHg. Test the hypothesis with a significance level of 0.05.\n",
    "\n",
    "Q15. An electronics company produces a certain type of product with a mean weight of 5 pounds and a\n",
    "standard deviation of 0.5 pounds. A random sample of 25 products is taken, and the sample mean weight\n",
    "is found to be 4.8 pounds. Test the hypothesis that the true mean weight of the products is less than 5\n",
    "pounds with a significance level of 0.01.\n",
    "\n",
    "Q16. Two groups of students are given different study materials to prepare for a test. The first group (n1 =\n",
    "30) has a mean score of 80 with a standard deviation of 10, and the second group (n2 = 40) has a mean\n",
    "score of 75 with a standard deviation of 8. Test the hypothesis that the population means for the two\n",
    "groups are equal with a significance level of 0.01.\n",
    "\n",
    "Q17. A marketing company wants to estimate the average number of ads watched by viewers during a TV\n",
    "program. They take a random sample of 50 viewers and find that the sample mean is 4 with a standard\n",
    "deviation of 1.5. Estimate the population mean with a 99% confidence interval."
   ]
  },
  {
   "cell_type": "markdown",
   "id": "49812334-284d-40a5-a4b5-db8677708259",
   "metadata": {},
   "source": [
    "## ++++++++++++++++++++++ANSWERS++++++++++++++++++++++"
   ]
  },
  {
   "cell_type": "markdown",
   "id": "266a0ff8-672e-4923-a6d7-fb6d81234f23",
   "metadata": {},
   "source": [
    "Q1 Ans>\n",
    "Estimation Statistics involve using sample data to estimate population parameters. There are two main types of estimates:\n",
    "\n",
    "Point Estimate:\n",
    "\n",
    "A point estimate provides a single value as an estimate of a population parameter. For example, the sample mean is a point estimate of the population mean.\n",
    "Example: If the sample mean height of 100 students is 65 inches, then 65 inches is the point estimate for the population mean height.\n",
    "Interval Estimate:\n",
    "\n",
    "An interval estimate provides a range of values within which the population parameter is expected to lie, with a certain level of confidence. This range is known as a confidence interval.\n",
    "Example: If the 95% confidence interval for the population mean height is (64.5 inches, 65.5 inches), it means we are 95% confident that the true population mean lies within this interval."
   ]
  },
  {
   "cell_type": "code",
   "execution_count": 4,
   "id": "a3aab0b0-a5e2-49ba-8092-7b190471269b",
   "metadata": {},
   "outputs": [
    {
     "name": "stdout",
     "output_type": "stream",
     "text": [
      "(486.1409617565032, 513.8590382434968)\n"
     ]
    }
   ],
   "source": [
    "# Q2 Ans> \n",
    "import scipy.stats as stats\n",
    "\n",
    "def estimate_population_mean(sample_mean, sample_std, sample_size, confidence_level=0.95):\n",
    "    # Calculate the standard error\n",
    "    standard_error = sample_std / (sample_size ** 0.5)\n",
    "    \n",
    "    # Calculate the z-score for the given confidence level\n",
    "    z_score = stats.norm.ppf((1 + confidence_level) / 2)\n",
    "    \n",
    "    # Calculate the margin of error\n",
    "    margin_of_error = z_score * standard_error\n",
    "    \n",
    "    # Calculate the confidence interval\n",
    "    confidence_interval = (sample_mean - margin_of_error, sample_mean + margin_of_error)\n",
    "    \n",
    "    return confidence_interval\n",
    "\n",
    "# Example usage:\n",
    "sample_mean = 500\n",
    "sample_std = 50\n",
    "sample_size = 50\n",
    "confidence_level = 0.95\n",
    "print(estimate_population_mean(sample_mean, sample_std, sample_size, confidence_level))"
   ]
  },
  {
   "cell_type": "markdown",
   "id": "f1e946ab-c608-4a40-8e4e-35ea6c3a4bb3",
   "metadata": {},
   "source": [
    "# Q3\n",
    "Hypothesis Testing is a statistical method used to make decisions or inferences about population parameters based on sample data. It involves evaluating a null hypothesis against an alternative hypothesis.\n",
    "\n",
    "Purpose: To determine whether there is enough evidence in the sample data to reject the null hypothesis, thereby supporting the alternative hypothesis.\n",
    "Importance: It helps in making objective decisions based on data, evaluating the effectiveness of interventions, and guiding scientific research."
   ]
  },
  {
   "cell_type": "markdown",
   "id": "ea482d7b-563d-4514-8ab1-10cd23e33f21",
   "metadata": {},
   "source": [
    "# Q 4 Ans\n",
    "Hypothesis: To determine if the average weight of male college students is greater than the average weight of female college students.\n",
    "\n",
    "Null Hypothesis (H0): The average weight of male college students is equal to the average weight of female college students.\n",
    "Alternative Hypothesis (H1): The average weight of male college students is greater than the average weight of female college students."
   ]
  },
  {
   "cell_type": "code",
   "execution_count": 6,
   "id": "18d52425-9614-4cee-abae-664230d7c7de",
   "metadata": {},
   "outputs": [
    {
     "name": "stdout",
     "output_type": "stream",
     "text": [
      "(2.2511258444537408, 0.0321269365995288, False)\n"
     ]
    }
   ],
   "source": [
    "# Q5 Ans\n",
    "import scipy.stats as stats\n",
    "\n",
    "def two_sample_t_test(mean1, std1, n1, mean2, std2, n2, alpha=0.05):\n",
    "    # Calculate the standard error of the difference between the means\n",
    "    standard_error = ((std1**2 / n1) + (std2**2 / n2))**0.5\n",
    "    \n",
    "    # Calculate the t-statistic\n",
    "    t_statistic = (mean1 - mean2) / standard_error\n",
    "    \n",
    "    # Calculate degrees of freedom\n",
    "    df = min(n1 - 1, n2 - 1)\n",
    "    \n",
    "    # Calculate the p-value\n",
    "    p_value = stats.t.sf(abs(t_statistic), df) * 2\n",
    "    \n",
    "    # Determine if we reject the null hypothesis\n",
    "    reject_null = p_value < alpha\n",
    "    \n",
    "    return t_statistic, p_value, reject_null\n",
    "\n",
    "# Example usage:\n",
    "mean1, std1, n1 = 80, 10, 30\n",
    "mean2, std2, n2 = 75, 8, 40\n",
    "alpha = 0.01\n",
    "print(two_sample_t_test(mean1, std1, n1, mean2, std2, n2, alpha))"
   ]
  },
  {
   "cell_type": "markdown",
   "id": "fbd30ea7-81b9-47ca-b2f6-ae2cde5c515b",
   "metadata": {},
   "source": [
    "# Q6 Ans>\n",
    "Null Hypothesis (H0): The hypothesis that there is no effect or no difference. It is the default assumption.\n",
    "\n",
    "Example: H0: μ1 = μ2 (The mean of group 1 is equal to the mean of group 2)\n",
    "Alternative Hypothesis (H1): The hypothesis that indicates the presence of an effect or a difference.\n",
    "\n",
    "Example: H1: μ1 ≠ μ2 (The mean of group 1 is not equal to the mean of group 2)"
   ]
  },
  {
   "cell_type": "markdown",
   "id": "5020444c-fcc9-422f-8d14-0f5cdaa7abe6",
   "metadata": {},
   "source": [
    "Q7: Steps in Hypothesis Testing\n",
    "\n",
    "State the Hypotheses: Formulate the null and alternative hypotheses.\n",
    "\n",
    "Select the Significance Level (α): Typically 0.05 or 0.01.\n",
    "\n",
    "Choose the Test Statistic: Based on the type of test (e.g., t-test, z-test).\n",
    "\n",
    "Compute the Test Statistic: Use sample data to calculate the test statistic.\n",
    "\n",
    "Determine the p-value: Compare the p-value to the significance level.\n",
    "\n",
    "Make a Decision: Reject or fail to reject the null hypothesis based on the p-value.\n",
    "\n",
    "Interpret the Results: Draw conclusions and consider implications."
   ]
  },
  {
   "cell_type": "markdown",
   "id": "786be4f5-bdaf-4288-9e39-6d798ad48cb0",
   "metadata": {},
   "source": [
    "Q8: P-Value\n",
    "\n",
    "Definition: The p-value is the probability of obtaining a test statistic at least as extreme as the one observed, assuming the null hypothesis is true.\n",
    "\n",
    "Significance: A small p-value (typically < α) indicates strong evidence against the null hypothesis, leading to its rejection."
   ]
  },
  {
   "cell_type": "code",
   "execution_count": 8,
   "id": "2d1a16f0-8621-41b1-8d43-0889e6aa8843",
   "metadata": {},
   "outputs": [
    {
     "data": {
      "image/png": "[encoded data removed]",
      "text/plain": [
       "<Figure size 800x600 with 1 Axes>"
      ]
     },
     "metadata": {},
     "output_type": "display_data"
    }
   ],
   "source": [
    "# Q9 Ans\n",
    "\n",
    "import numpy as np\n",
    "import matplotlib.pyplot as plt\n",
    "import scipy.stats as stats\n",
    "\n",
    "# Parameters\n",
    "df = 10  # degrees of freedom\n",
    "\n",
    "# Generate x values\n",
    "x = np.linspace(-4, 4, 1000)\n",
    "\n",
    "# Calculate the t-distribution PDF\n",
    "pdf = stats.t.pdf(x, df)\n",
    "\n",
    "# Plot\n",
    "plt.figure(figsize=(8, 6))\n",
    "plt.plot(x, pdf, label=f\"t-distribution (df={df})\")\n",
    "plt.title(\"Student's t-Distribution\")\n",
    "plt.xlabel(\"x\")\n",
    "plt.ylabel(\"Probability Density\")\n",
    "plt.legend()\n",
    "plt.grid(True)\n",
    "plt.show()"
   ]
  },
  {
   "cell_type": "code",
   "execution_count": 10,
   "id": "227379ae-6207-4f13-89d8-31ccc3579a79",
   "metadata": {},
   "outputs": [
    {
     "name": "stdout",
     "output_type": "stream",
     "text": [
      "(2.2511258444537408, 0.0321269365995288, False)\n"
     ]
    }
   ],
   "source": [
    "# Q10: Two-Sample T-Test for Independent Samples\n",
    "import numpy as np\n",
    "import scipy.stats as stats\n",
    "\n",
    "def two_sample_t_test(mean1, std1, n1, mean2, std2, n2, alpha=0.05):\n",
    "    # Calculate the standard error of the difference between the means\n",
    "    standard_error = ((std1**2 / n1) + (std2**2 / n2))**0.5\n",
    "    \n",
    "    # Calculate the t-statistic\n",
    "    t_statistic = (mean1 - mean2) / standard_error\n",
    "    \n",
    "    # Calculate degrees of freedom\n",
    "    df = min(n1 - 1, n2 - 1)\n",
    "    \n",
    "    # Calculate the p-value\n",
    "    p_value = stats.t.sf(abs(t_statistic), df) * 2\n",
    "    \n",
    "    # Determine if we reject the null hypothesis\n",
    "    reject_null = p_value < alpha\n",
    "    \n",
    "    return t_statistic, p_value, reject_null\n",
    "\n",
    "# Example usage:\n",
    "mean1, std1, n1 = 80, 10, 30\n",
    "mean2, std2, n2 = 75, 8, 40\n",
    "alpha = 0.01\n",
    "print(two_sample_t_test(mean1, std1, n1, mean2, std2, n2, alpha))"
   ]
  },
  {
   "cell_type": "markdown",
   "id": "deb49d65-d69c-483f-831f-1daf4ca35eb6",
   "metadata": {},
   "source": [
    "Q11: What is Student’s t distribution? When to use the t-Distribution?\n",
    "Student's t-distribution is a probability distribution that is used to estimate population parameters when the sample size is small and/or the population variance is unknown. It is similar to the normal distribution but has heavier tails, meaning it is more prone to producing values that fall far from its mean.\n",
    "\n",
    "When to use the t-Distribution:\n",
    "\n",
    "When the sample size is small (typically n<30).\n",
    "When the population standard deviation is unknown.\n",
    "When dealing with the means of a normally distributed population."
   ]
  },
  {
   "cell_type": "markdown",
   "id": "e69c260c-bdf1-430a-8c78-94bd8b640740",
   "metadata": {},
   "source": [
    "Q12: What is t-statistic? State the formula for t-statistic.\n",
    "\n",
    "The t-statistic is a ratio that compares the difference between an observed sample mean and the hypothesized population mean, relative to the variability of the sample."
   ]
  },
  {
   "cell_type": "markdown",
   "id": "16252a33-587c-485e-b25a-72b0a1ec56d3",
   "metadata": {},
   "source": [
    "Q13: Estimating Population Mean Revenue with a 95% Confidence Interval\n",
    "Given:\n",
    "\n",
    "Sample mean revenue 500\n",
    "Sample standard deviation (s) = 50\n",
    "Sample size (n) = 50\n",
    "Confidence Interval:\n",
    "500±14.2\n",
    "(485.8,514.2)"
   ]
  },
  {
   "cell_type": "markdown",
   "id": "2c2dc0ea-2039-4652-a7a4-dd24e3ecfcd1",
   "metadata": {},
   "source": [
    "Q14: Hypothesis Testing for Blood Pressure Decrease\n",
    "\n",
    "Conclusion: There is sufficient evidence to reject the null hypothesis and conclude that the drug's effect on blood pressure is significantly different from 10 mmHg."
   ]
  },
  {
   "cell_type": "markdown",
   "id": "1258ca0b-1bfc-427d-bf18-8d923e53deb2",
   "metadata": {},
   "source": [
    "Q15: Hypothesis Testing for Product Weight\n",
    "\n",
    "Conclusion: There is not enough evidence to conclude that the true mean weight of the products is less than 5 pounds."
   ]
  },
  {
   "cell_type": "markdown",
   "id": "38377917-a89b-44ac-bb96-88807650d712",
   "metadata": {},
   "source": [
    "Q16: Hypothesis Testing for Two Groups' Mean Scores\n",
    "\n",
    "Conclusion: There is not enough evidence to conclude that the population means for the two groups are different."
   ]
  },
  {
   "cell_type": "markdown",
   "id": "135db45f-db51-4712-bcc5-aed2b6dcc5c8",
   "metadata": {},
   "source": [
    "Q17: Estimating Population Mean Number of Ads Watched with a 99% Confidence Interval\n",
    "\n",
    "Thus, the population mean number of ads watched during a TV program is estimated to be between 3.431 and 4.569 with a 99% confidence level"
   ]
  }
 ],
 "metadata": {
  "kernelspec": {
   "display_name": "Python 3 (ipykernel)",
   "language": "python",
   "name": "python3"
  },
  "language_info": {
   "codemirror_mode": {
    "name": "ipython",
    "version": 3
   },
   "file_extension": ".py",
   "mimetype": "text/x-python",
   "name": "python",
   "nbconvert_exporter": "python",
   "pygments_lexer": "ipython3",
   "version": "3.10.8"
  }
 },
 "nbformat": 4,
 "nbformat_minor": 5
}
