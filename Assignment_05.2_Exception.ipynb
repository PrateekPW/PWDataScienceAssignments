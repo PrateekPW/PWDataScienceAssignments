{
 "cells": [
  {
   "cell_type": "markdown",
   "id": "4d9c8b3b-a7d7-4ebe-ac44-95c722c38b7c",
   "metadata": {},
   "source": [
    "## Q1. Explain why we have to use the Exception class while creating a Custom Exception."
   ]
  },
  {
   "cell_type": "markdown",
   "id": "516dc394-866b-43f1-86cb-21daa7bff05c",
   "metadata": {},
   "source": [
    "## In Python, the Exception class is used as a base class for creating custom exceptions. When you create a custom exception, you are essentially creating a new class that inherits from the built-in Exception class."
   ]
  },
  {
   "cell_type": "markdown",
   "id": "03979358-f5c8-4c04-a2c2-6c27ca6dda90",
   "metadata": {},
   "source": [
    "## Q2. Write a python program to print Python Exception Hierarchy."
   ]
  },
  {
   "cell_type": "code",
   "execution_count": 3,
   "id": "e82c64dd-c053-42a0-a011-7590b12ad034",
   "metadata": {},
   "outputs": [],
   "source": [
    "def print_exception_hierarchy(exception_class, indent=0):\n",
    "    print(\"  \" * indent + f\"{exception_class.__name__}\")\n",
    "    for subclass in exception_class.__subclasses__():\n",
    "        print(subclass, indent + 1)\n"
   ]
  },
  {
   "cell_type": "markdown",
   "id": "fbc80bdd-b6af-4b0e-832b-56b722b2b7d3",
   "metadata": {},
   "source": [
    "## Q3. What errors are defined in the ArithmeticError class? Explain any two with an example."
   ]
  },
  {
   "cell_type": "markdown",
   "id": "617b0385-23b9-4dc3-bc5d-2f007f297930",
   "metadata": {},
   "source": [
    "## Ans In Python, the ArithmeticError class is the base class for all errors that occur during arithmetic operations. It is a subclass of the Exception class. "
   ]
  },
  {
   "cell_type": "code",
   "execution_count": 4,
   "id": "74da7059-676d-4a0f-8c90-e06a165edb1e",
   "metadata": {},
   "outputs": [
    {
     "name": "stdout",
     "output_type": "stream",
     "text": [
      "division by zero\n"
     ]
    }
   ],
   "source": [
    "try:\n",
    "    result = 10 / 0\n",
    "except ZeroDivisionError as e:\n",
    "    print(e)"
   ]
  },
  {
   "cell_type": "code",
   "execution_count": 9,
   "id": "4ef790e7-d811-4ba8-a122-da660ec83fe2",
   "metadata": {},
   "outputs": [
    {
     "name": "stdout",
     "output_type": "stream",
     "text": [
      "invalid literal for int() with base 10: 'Prateek'\n"
     ]
    }
   ],
   "source": [
    "try:\n",
    "    int(\"Prateek\")\n",
    "except (ValueError,TypeError) as e:\n",
    "    print(e)\n",
    "    "
   ]
  },
  {
   "cell_type": "markdown",
   "id": "b56e4181-6da5-474d-846b-f76ba5550eff",
   "metadata": {},
   "source": [
    "## Q4. Why LookupError class is used? Explain with an example KeyError and IndexError."
   ]
  },
  {
   "cell_type": "markdown",
   "id": "b1f6a0dd-518c-4bdc-beac-7f7e748fa701",
   "metadata": {},
   "source": [
    "## Ans The LookupError class in Python is the base class for exceptions that occur when a key or index used to access a collection (like a dictionary or a list) is not found. It is a subclass of the Exception class."
   ]
  },
  {
   "cell_type": "code",
   "execution_count": 10,
   "id": "c6877554-772e-43fd-bab0-8ffb70630964",
   "metadata": {},
   "outputs": [
    {
     "name": "stdout",
     "output_type": "stream",
     "text": [
      "Error 'key2'\n"
     ]
    }
   ],
   "source": [
    "try:\n",
    "    d={\"key\":\"Sudg\",1:[1,23]}\n",
    "    print(d[\"key2\"])\n",
    "except KeyError as e:\n",
    "    print(\"Error\",e)"
   ]
  },
  {
   "cell_type": "code",
   "execution_count": 11,
   "id": "cb2cfbb9-44f8-486a-9217-fad780653455",
   "metadata": {},
   "outputs": [
    {
     "name": "stdout",
     "output_type": "stream",
     "text": [
      "Error list index out of range\n"
     ]
    }
   ],
   "source": [
    "try:\n",
    "    l=[1,2,3,4]\n",
    "    print(l[17])\n",
    "except IndexError as e:\n",
    "    print(\"Error\",e)"
   ]
  },
  {
   "cell_type": "markdown",
   "id": "a42b8be5-bae5-49dc-8512-d531593cddb6",
   "metadata": {},
   "source": [
    "## Q5. Explain ImportError. What is ModuleNotFoundError?"
   ]
  },
  {
   "cell_type": "markdown",
   "id": "5f42f960-c403-4bc6-aebf-f2b47fc1153e",
   "metadata": {},
   "source": [
    "## Ans ImportError is a base class for exceptions that occur during the import of a module. It is a subclass of the Exception class in Python."
   ]
  },
  {
   "cell_type": "code",
   "execution_count": 13,
   "id": "d4b3a8f8-841b-488f-96a7-75c3b2d66388",
   "metadata": {},
   "outputs": [
    {
     "name": "stdout",
     "output_type": "stream",
     "text": [
      "No module named 'Prateek'\n"
     ]
    }
   ],
   "source": [
    "try:\n",
    "    import Prateek\n",
    "except ImportError as e:\n",
    "    print(e)"
   ]
  },
  {
   "cell_type": "markdown",
   "id": "13028bd6-779e-46e1-bf35-fbee14786257",
   "metadata": {},
   "source": [
    "## ModuleNotFoundError is a subclass of ImportError that specifically indicates that the module could not be found. It was introduced to provide more precise information about the nature of the import error, helping developers identify whether the issue is related to a missing module."
   ]
  },
  {
   "cell_type": "markdown",
   "id": "4a2a59f1-d010-4579-b874-17a8e87d1563",
   "metadata": {},
   "source": [
    "## Q6. List down some best practices for exception handling in python."
   ]
  },
  {
   "cell_type": "code",
   "execution_count": 18,
   "id": "fa14f92f-1d26-471a-a4d3-4e26987d36ff",
   "metadata": {},
   "outputs": [
    {
     "name": "stdout",
     "output_type": "stream",
     "text": [
      "[Errno 2] No such file or directory: 'bkfnk.txt'\n"
     ]
    }
   ],
   "source": [
    "try:\n",
    "    with open(\"bkfnk.txt\",'r') as f:\n",
    "        f.read()\n",
    "except FileNotFoundError as e:\n",
    "    print(e)\n",
    "except ValueError as e:\n",
    "    print(e)"
   ]
  },
  {
   "cell_type": "code",
   "execution_count": 19,
   "id": "29e0233d-63ee-4c37-a526-32669a647c4b",
   "metadata": {},
   "outputs": [
    {
     "name": "stderr",
     "output_type": "stream",
     "text": [
      "ERROR:root:An error occurred: No module named 'Prateek'\n",
      "Traceback (most recent call last):\n",
      "  File \"/tmp/ipykernel_102/1835620614.py\", line 4, in <module>\n",
      "    import Prateek\n",
      "ModuleNotFoundError: No module named 'Prateek'\n"
     ]
    }
   ],
   "source": [
    "import logging\n",
    "\n",
    "try:\n",
    "    import Prateek\n",
    "except Exception as e:\n",
    "    logging.exception(\"An error occurred: %s\", e)"
   ]
  },
  {
   "cell_type": "code",
   "execution_count": null,
   "id": "481c92c6-6f4a-4076-94ad-3c8576e70495",
   "metadata": {},
   "outputs": [],
   "source": []
  }
 ],
 "metadata": {
  "kernelspec": {
   "display_name": "Python 3 (ipykernel)",
   "language": "python",
   "name": "python3"
  },
  "language_info": {
   "codemirror_mode": {
    "name": "ipython",
    "version": 3
   },
   "file_extension": ".py",
   "mimetype": "text/x-python",
   "name": "python",
   "nbconvert_exporter": "python",
   "pygments_lexer": "ipython3",
   "version": "3.10.8"
  }
 },
 "nbformat": 4,
 "nbformat_minor": 5
}
