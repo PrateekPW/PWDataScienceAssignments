{
 "cells": [
  {
   "cell_type": "markdown",
   "id": "378a0244-c0cf-4e6d-b163-51057c11265c",
   "metadata": {},
   "source": [
    "## Assignment_03_Fuctions"
   ]
  },
  {
   "cell_type": "markdown",
   "id": "53697ccf-2d24-4cad-82fc-9ab9f161726b",
   "metadata": {},
   "source": [
    "## Q1. Which keyword is used to create a function? Create a function to return a list of odd numbers in the range of 1 to 25."
   ]
  },
  {
   "cell_type": "markdown",
   "id": "3c548823-cdd2-425c-8d3b-8ff904112111",
   "metadata": {},
   "source": [
    "## ans \n",
    "## def"
   ]
  },
  {
   "cell_type": "code",
   "execution_count": 1,
   "id": "4c8e4515-6d73-4249-a945-6615ddba7660",
   "metadata": {},
   "outputs": [
    {
     "name": "stdout",
     "output_type": "stream",
     "text": [
      "0\n",
      "2\n",
      "4\n",
      "6\n",
      "8\n",
      "10\n",
      "12\n",
      "14\n",
      "16\n",
      "18\n",
      "20\n",
      "22\n",
      "24\n"
     ]
    }
   ],
   "source": [
    "def odd():\n",
    "    for i in range(25):\n",
    "        if i%2==0:\n",
    "            print(i)\n",
    "odd()"
   ]
  },
  {
   "cell_type": "markdown",
   "id": "3c1ea221-0b4e-4b31-89e0-26eac9e4ceff",
   "metadata": {},
   "source": [
    "## Q2. Why *args and **kwargs is used in some functions? Create a function each for *args and **kwargs to demonstrate their use."
   ]
  },
  {
   "cell_type": "markdown",
   "id": "8848e01d-a1ac-46d5-9490-79be37e55c97",
   "metadata": {},
   "source": [
    "## In Python, *args and **kwargs are used in function definitions to allow a function to accept a variable number of positional arguments and keyword arguments, respectively."
   ]
  },
  {
   "cell_type": "code",
   "execution_count": 2,
   "id": "6d0ee953-9b3e-4ce1-b21a-9c0a70798cd3",
   "metadata": {},
   "outputs": [
    {
     "name": "stdout",
     "output_type": "stream",
     "text": [
      "15\n"
     ]
    }
   ],
   "source": [
    "def sum_all(*args):\n",
    "    total = 0\n",
    "    for num in args:\n",
    "        total += num\n",
    "    return total\n",
    "\n",
    "result = sum_all(1, 2, 3, 4, 5)\n",
    "print(result)"
   ]
  },
  {
   "cell_type": "markdown",
   "id": "705bcbf2-4218-4a64-8e2f-8e990e7c4d84",
   "metadata": {},
   "source": [
    "## **kwargs is used to pass a variable number of keyword arguments to a function. It allows you to pass any number of keyword arguments, and they will be collected into a dictionary within the function."
   ]
  },
  {
   "cell_type": "code",
   "execution_count": 3,
   "id": "5b1db804-022c-454e-96ee-bbadf703df82",
   "metadata": {},
   "outputs": [],
   "source": [
    "def test12(**di):\n",
    "    return di"
   ]
  },
  {
   "cell_type": "code",
   "execution_count": 6,
   "id": "9d1a491d-1594-4c95-a29b-eaa16a922cdd",
   "metadata": {},
   "outputs": [
    {
     "data": {
      "text/plain": [
       "dict"
      ]
     },
     "execution_count": 6,
     "metadata": {},
     "output_type": "execute_result"
    }
   ],
   "source": [
    "type(test12())"
   ]
  },
  {
   "cell_type": "markdown",
   "id": "90605ecc-5534-4fb8-bc2e-d60a8e04d840",
   "metadata": {},
   "source": [
    "## Q3. What is an iterator in python? Name the method used to initialise the iterator object and the methodused for iteration. Use these methods to print the first five elements of the given list [2, 4, 6, 8, 10, 12, 14, 16, 18, 20]."
   ]
  },
  {
   "cell_type": "markdown",
   "id": "c9e1d8bc-c5e2-4171-8813-bf6d6ccd175d",
   "metadata": {},
   "source": [
    "## Ans> In Python, an iterator is an object that implements two methods: __iter__() and __next__()"
   ]
  },
  {
   "cell_type": "code",
   "execution_count": 7,
   "id": "e69345ba-47c6-43ad-af9d-00c2855e160b",
   "metadata": {},
   "outputs": [],
   "source": [
    "l=[2, 4, 6, 8, 10, 12, 14, 16, 18, 20]\n",
    "l1=iter(l)"
   ]
  },
  {
   "cell_type": "code",
   "execution_count": 9,
   "id": "e2c0abd8-5137-45e7-9ad6-d7e65ccabcab",
   "metadata": {},
   "outputs": [
    {
     "data": {
      "text/plain": [
       "2"
      ]
     },
     "execution_count": 9,
     "metadata": {},
     "output_type": "execute_result"
    }
   ],
   "source": [
    "next(l1)"
   ]
  },
  {
   "cell_type": "code",
   "execution_count": 10,
   "id": "8e753e17-96a3-40d4-9991-af81819060fb",
   "metadata": {},
   "outputs": [
    {
     "data": {
      "text/plain": [
       "4"
      ]
     },
     "execution_count": 10,
     "metadata": {},
     "output_type": "execute_result"
    }
   ],
   "source": [
    "next(l1)"
   ]
  },
  {
   "cell_type": "code",
   "execution_count": 11,
   "id": "afbc3c7d-0426-4169-89e4-f5782e17d5ad",
   "metadata": {},
   "outputs": [
    {
     "data": {
      "text/plain": [
       "6"
      ]
     },
     "execution_count": 11,
     "metadata": {},
     "output_type": "execute_result"
    }
   ],
   "source": [
    "next(l1)"
   ]
  },
  {
   "cell_type": "code",
   "execution_count": 12,
   "id": "1ebafea8-717a-4145-9e67-c67182b56a91",
   "metadata": {},
   "outputs": [
    {
     "data": {
      "text/plain": [
       "8"
      ]
     },
     "execution_count": 12,
     "metadata": {},
     "output_type": "execute_result"
    }
   ],
   "source": [
    "next(l1)"
   ]
  },
  {
   "cell_type": "code",
   "execution_count": 13,
   "id": "05a99e8d-6ca8-41f0-aa4d-094130f496e2",
   "metadata": {},
   "outputs": [
    {
     "data": {
      "text/plain": [
       "10"
      ]
     },
     "execution_count": 13,
     "metadata": {},
     "output_type": "execute_result"
    }
   ],
   "source": [
    "next(l1)"
   ]
  },
  {
   "cell_type": "markdown",
   "id": "9b8eed88-6e4d-4bc9-b9ef-9397bdd73d0b",
   "metadata": {},
   "source": [
    "## Q4. What is a generator function in python? Why yield keyword is used? Give an example of a generator function."
   ]
  },
  {
   "cell_type": "markdown",
   "id": "6931855f-f9ed-4850-8c24-8d9114e7073c",
   "metadata": {},
   "source": [
    "## In Python, a generator function is a special type of function that allows you to create an iterator. Generator functions use the yield keyword to yield values one at a time instead of returning them all at once"
   ]
  },
  {
   "cell_type": "code",
   "execution_count": 15,
   "id": "eb9cd6e4-e09e-47de-8b10-d6fafcfa1d14",
   "metadata": {},
   "outputs": [],
   "source": [
    "def test_fib(n):\n",
    "    a,b=0,1\n",
    "    for i in range(n):\n",
    "        yield a\n",
    "        a,b=b,a+b"
   ]
  },
  {
   "cell_type": "code",
   "execution_count": 16,
   "id": "f221e6b0-74f7-4341-970e-759f955a78e0",
   "metadata": {},
   "outputs": [
    {
     "name": "stdout",
     "output_type": "stream",
     "text": [
      "0\n",
      "1\n",
      "1\n",
      "2\n",
      "3\n",
      "5\n",
      "8\n",
      "13\n",
      "21\n",
      "34\n"
     ]
    }
   ],
   "source": [
    "for i in test_fib(10):\n",
    "    print(i)"
   ]
  },
  {
   "cell_type": "markdown",
   "id": "1862dfbd-7feb-4a63-b13a-ce11ad503531",
   "metadata": {},
   "source": [
    "## Q5. Create a generator function for prime numbers less than 1000. Use the next() method to print the first 20 prime numbers."
   ]
  },
  {
   "cell_type": "code",
   "execution_count": 32,
   "id": "7fb882af-c1d7-4729-b479-2c139df241fa",
   "metadata": {},
   "outputs": [],
   "source": [
    "\n",
    "l=[]\n",
    "for i in range(2,1001):\n",
    "    s=0\n",
    "    for j in range(2,i//2):\n",
    "        if(i%j==0):\n",
    "            s=1\n",
    "    if(s==0):\n",
    "        l.append(i)"
   ]
  },
  {
   "cell_type": "code",
   "execution_count": 33,
   "id": "a1b2cdf0-8475-4a77-bfee-e013bfc0bf86",
   "metadata": {},
   "outputs": [],
   "source": [
    "l2=iter(l)"
   ]
  },
  {
   "cell_type": "code",
   "execution_count": 43,
   "id": "b219e55b-0b55-4e1d-83e1-6a3bca250251",
   "metadata": {},
   "outputs": [
    {
     "name": "stdout",
     "output_type": "stream",
     "text": [
      "199\n",
      "211\n",
      "223\n",
      "227\n",
      "229\n",
      "233\n",
      "239\n",
      "241\n",
      "251\n",
      "257\n",
      "263\n",
      "269\n",
      "271\n",
      "277\n",
      "281\n",
      "283\n",
      "293\n",
      "307\n",
      "311\n",
      "313\n"
     ]
    }
   ],
   "source": [
    "for i in range(20):\n",
    "    print(next(l2))"
   ]
  },
  {
   "cell_type": "markdown",
   "id": "7899c1b1-1acc-4a6e-adcc-06ad799afc44",
   "metadata": {},
   "source": [
    "## Q6. Write a python program to print the first 10 Fibonacci numbers using a while loop."
   ]
  },
  {
   "cell_type": "code",
   "execution_count": 44,
   "id": "f4d5e89c-2a6e-479e-bb8e-065a0c8363bd",
   "metadata": {},
   "outputs": [],
   "source": [
    "def test1_fib():\n",
    "    a,b=0,1\n",
    "    while True:\n",
    "        yield a\n",
    "        a,b=b,a+b"
   ]
  },
  {
   "cell_type": "code",
   "execution_count": 45,
   "id": "cdd2f503-507c-4ff1-8349-1b4635702b88",
   "metadata": {},
   "outputs": [],
   "source": [
    "fib=test1_fib()\n"
   ]
  },
  {
   "cell_type": "code",
   "execution_count": 46,
   "id": "93198e27-c948-43cb-854c-95155a9b38c5",
   "metadata": {},
   "outputs": [
    {
     "name": "stdout",
     "output_type": "stream",
     "text": [
      "0\n",
      "1\n",
      "1\n",
      "2\n",
      "3\n",
      "5\n",
      "8\n",
      "13\n",
      "21\n",
      "34\n"
     ]
    }
   ],
   "source": [
    "for i in range(10):\n",
    "    print(next(fib))"
   ]
  },
  {
   "cell_type": "markdown",
   "id": "fa928f1b-8bdf-4bc0-8739-36d7f8c11f71",
   "metadata": {},
   "source": [
    "## Q7. Write a List Comprehension to iterate through the given string: ‘pwskills’.\n",
    "## Expected output: ['p', 'w', 's', 'k', 'i', 'l', 'l', 's']"
   ]
  },
  {
   "cell_type": "code",
   "execution_count": 49,
   "id": "f75ef423-c2d3-44b9-a6b0-1e1631b3fca1",
   "metadata": {},
   "outputs": [
    {
     "name": "stdout",
     "output_type": "stream",
     "text": [
      "['p', 'w', 's', 'k', 'i', 'l', 'l', 's']\n"
     ]
    }
   ],
   "source": [
    "str=\"pwskills\"\n",
    "print(list(str))"
   ]
  },
  {
   "cell_type": "markdown",
   "id": "58ceb4f8-a1b6-4312-b5d0-c98dfcd21b19",
   "metadata": {},
   "source": [
    "## Q8. Write a python program to check whether a given number is Palindrome or not using a while loop."
   ]
  },
  {
   "cell_type": "code",
   "execution_count": 50,
   "id": "109d0a04-a929-40e9-b78b-ab171f498d11",
   "metadata": {},
   "outputs": [
    {
     "name": "stdin",
     "output_type": "stream",
     "text": [
      "Enter a number:  14741\n"
     ]
    },
    {
     "name": "stdout",
     "output_type": "stream",
     "text": [
      "14741 is a palindrome\n"
     ]
    }
   ],
   "source": [
    "def is_palindrome(number):\n",
    "    original_number = number\n",
    "    reversed_number = 0\n",
    "\n",
    "    while number > 0:\n",
    "        digit = number % 10\n",
    "        reversed_number = reversed_number * 10 + digit\n",
    "        number //= 10\n",
    "\n",
    "    return original_number == reversed_number\n",
    "\n",
    "# Input from the user\n",
    "num = int(input(\"Enter a number: \"))\n",
    "\n",
    "if is_palindrome(num):\n",
    "    print(f\"{num} is a palindrome\")\n",
    "else:\n",
    "    print(f\"{num} is not a palindrome\")"
   ]
  },
  {
   "cell_type": "markdown",
   "id": "28fb2e48-5b86-4a81-92c1-152495abac34",
   "metadata": {},
   "source": [
    "## Q9. Write a code to print odd numbers from 1 to 100 using list comprehension."
   ]
  },
  {
   "cell_type": "code",
   "execution_count": 51,
   "id": "cf2a21cd-af6c-4dbb-81bd-cef87315b2e3",
   "metadata": {},
   "outputs": [],
   "source": [
    "l=[]\n",
    "for i in range(1,101):\n",
    "    l.append(i)"
   ]
  },
  {
   "cell_type": "code",
   "execution_count": 52,
   "id": "ac4ab324-8747-49e1-84bb-bdf303ab7438",
   "metadata": {},
   "outputs": [
    {
     "name": "stdout",
     "output_type": "stream",
     "text": [
      "[1, 3, 5, 7, 9, 11, 13, 15, 17, 19, 21, 23, 25, 27, 29, 31, 33, 35, 37, 39, 41, 43, 45, 47, 49, 51, 53, 55, 57, 59, 61, 63, 65, 67, 69, 71, 73, 75, 77, 79, 81, 83, 85, 87, 89, 91, 93, 95, 97, 99]\n"
     ]
    }
   ],
   "source": [
    "print(list(filter(lambda x:x%2!=0,l)))"
   ]
  },
  {
   "cell_type": "code",
   "execution_count": null,
   "id": "7f316109-b9bf-4fed-b994-d132b99304ed",
   "metadata": {},
   "outputs": [],
   "source": []
  }
 ],
 "metadata": {
  "kernelspec": {
   "display_name": "Python 3 (ipykernel)",
   "language": "python",
   "name": "python3"
  },
  "language_info": {
   "codemirror_mode": {
    "name": "ipython",
    "version": 3
   },
   "file_extension": ".py",
   "mimetype": "text/x-python",
   "name": "python",
   "nbconvert_exporter": "python",
   "pygments_lexer": "ipython3",
   "version": "3.10.8"
  }
 },
 "nbformat": 4,
 "nbformat_minor": 5
}
