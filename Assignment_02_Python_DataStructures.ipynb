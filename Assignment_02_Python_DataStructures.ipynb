{
 "cells": [
  {
   "cell_type": "markdown",
   "id": "754afd2f-448f-410e-83c8-803b1afd73f7",
   "metadata": {},
   "source": [
    "## Q1. How do you comment code in Python? What are the different types of comments?\n"
   ]
  },
  {
   "cell_type": "markdown",
   "id": "8cf09ad0-2023-49a6-b747-e56e9d535137",
   "metadata": {},
   "source": [
    "## Ans. Comments in Python are identified with a hash symbol, #, and extend to the end of the line.There are three types of comments: single-line, multi-line, and docstring comments."
   ]
  },
  {
   "cell_type": "markdown",
   "id": "f4269d15-cf2f-44ee-9a6d-d5e07095182e",
   "metadata": {},
   "source": [
    "## Q2. What are variables in Python? How do you declare and assign values to variables?"
   ]
  },
  {
   "cell_type": "markdown",
   "id": "b46607b7-7951-4acb-88aa-ec348a167bd4",
   "metadata": {},
   "source": [
    "## Ans. A variable is a string of characters and numbers associated with a piece of information. The assignment operator, denoted by the “=” symbol, is the operator that is used to assign that value to the variable with name “x”."
   ]
  },
  {
   "cell_type": "markdown",
   "id": "6781bae9-d346-4b16-8826-1c19bb46a7b5",
   "metadata": {},
   "source": [
    "## Q3. How do you convert one data type to another in Python?"
   ]
  },
  {
   "cell_type": "markdown",
   "id": "c7a36d41-b349-48fe-ad58-90cfc5fd42fe",
   "metadata": {},
   "source": [
    "## Ans. We convert one data type to another in python using tuple(), set(), list() tuple() ."
   ]
  },
  {
   "cell_type": "markdown",
   "id": "06c394f6-0ecf-4181-b547-c986fad9b10b",
   "metadata": {},
   "source": [
    "## Q4. How do you write and execute a Python script from the command line?"
   ]
  },
  {
   "cell_type": "markdown",
   "id": "cd01a61d-55cf-46c5-b9ee-16ee178a41a4",
   "metadata": {},
   "source": [
    "## Ans. We need to open a command line and type the word python followed by the path to your script file like this: python first_script.py Hello World! Then you hit the ENTER button from the keyboard, and that's it."
   ]
  },
  {
   "cell_type": "markdown",
   "id": "95dc106a-2c2c-460e-b885-ec3fb1717fe1",
   "metadata": {},
   "source": [
    "## Q5. Given a list my_list = [1, 2, 3, 4, 5], write the code to slice the list and obtain the sub-list [2, 3]."
   ]
  },
  {
   "cell_type": "code",
   "execution_count": 10,
   "id": "1248aad2-d400-4783-9c84-206550eef19c",
   "metadata": {},
   "outputs": [
    {
     "data": {
      "text/plain": [
       "[1, 2, 3, 4, 5]"
      ]
     },
     "execution_count": 10,
     "metadata": {},
     "output_type": "execute_result"
    }
   ],
   "source": [
    "## Ans\n",
    "my_list=[1,2,3,4,5]\n",
    "my_list[2:3]\n",
    "my_list"
   ]
  },
  {
   "cell_type": "markdown",
   "id": "a169b9b8-ccb2-4b25-970d-72b43f512a48",
   "metadata": {},
   "source": [
    "## Q6. What is a complex number in mathematics, and how is it represented in Python?"
   ]
  },
  {
   "cell_type": "code",
   "execution_count": 14,
   "id": "bb6dd0e1-0c0a-4652-8f25-8206a0b6c1c2",
   "metadata": {},
   "outputs": [
    {
     "data": {
      "text/plain": [
       "complex"
      ]
     },
     "execution_count": 14,
     "metadata": {},
     "output_type": "execute_result"
    }
   ],
   "source": [
    "## Ans\n",
    "c=5+6j\n",
    "type(c)\n"
   ]
  },
  {
   "cell_type": "code",
   "execution_count": 16,
   "id": "b9253d7b-7490-4229-880c-51583aeca7d4",
   "metadata": {},
   "outputs": [
    {
     "data": {
      "text/plain": [
       "6.0"
      ]
     },
     "execution_count": 16,
     "metadata": {},
     "output_type": "execute_result"
    }
   ],
   "source": [
    "c.imag"
   ]
  },
  {
   "cell_type": "code",
   "execution_count": 17,
   "id": "c321c164-ff79-41a5-9e7e-08bedd171546",
   "metadata": {},
   "outputs": [
    {
     "data": {
      "text/plain": [
       "5.0"
      ]
     },
     "execution_count": 17,
     "metadata": {},
     "output_type": "execute_result"
    }
   ],
   "source": [
    "c.real"
   ]
  },
  {
   "cell_type": "markdown",
   "id": "081f9908-b61e-498c-994f-a2d7ef691046",
   "metadata": {},
   "source": [
    "## Q7. What is the correct way to declare a variable named age and assign the value 25 to it?"
   ]
  },
  {
   "cell_type": "code",
   "execution_count": 18,
   "id": "1fe190e1-54f0-4a7a-99ac-ff651bc77ef4",
   "metadata": {},
   "outputs": [
    {
     "data": {
      "text/plain": [
       "25"
      ]
     },
     "execution_count": 18,
     "metadata": {},
     "output_type": "execute_result"
    }
   ],
   "source": [
    "## Ans\n",
    "age=25\n",
    "age"
   ]
  },
  {
   "cell_type": "markdown",
   "id": "70e5e948-00ce-403b-9d05-17b4a35a8ac6",
   "metadata": {},
   "source": [
    "## Q8. Declare a variable named price and assign the value 9.99 to it. What data type does this variable belong to?\n"
   ]
  },
  {
   "cell_type": "code",
   "execution_count": 19,
   "id": "c8558d9e-a630-4690-9ca8-4341039e5cab",
   "metadata": {},
   "outputs": [
    {
     "data": {
      "text/plain": [
       "float"
      ]
     },
     "execution_count": 19,
     "metadata": {},
     "output_type": "execute_result"
    }
   ],
   "source": [
    "## Ans\n",
    "price=9.99\n",
    "type(price)"
   ]
  },
  {
   "cell_type": "markdown",
   "id": "a695ae6d-447f-4a18-ba8d-972024ce0d06",
   "metadata": {},
   "source": [
    "## Q9. Create a variable named name and assign your full name to it as a string. How would you print the value of this variable?\n"
   ]
  },
  {
   "cell_type": "code",
   "execution_count": 20,
   "id": "0f58363b-0ad3-4441-990d-b8659800761d",
   "metadata": {},
   "outputs": [
    {
     "name": "stdout",
     "output_type": "stream",
     "text": [
      "Prateek Dash\n"
     ]
    }
   ],
   "source": [
    "## Ans\n",
    "name=\"Prateek Dash\"\n",
    "print(name)"
   ]
  },
  {
   "cell_type": "markdown",
   "id": "68535d31-c81e-4541-b0e2-9ae05facb605",
   "metadata": {},
   "source": [
    "## Q10. Given the string \"Hello, World!\", extract the substring \"World\"."
   ]
  },
  {
   "cell_type": "code",
   "execution_count": 21,
   "id": "d5ba4723-9e6f-42d4-9e07-f71311be4b1e",
   "metadata": {},
   "outputs": [
    {
     "data": {
      "text/plain": [
       "'World'"
      ]
     },
     "execution_count": 21,
     "metadata": {},
     "output_type": "execute_result"
    }
   ],
   "source": [
    "## Ans.\n",
    "str=\"Hello, World!\"\n",
    "str[7:12]"
   ]
  },
  {
   "cell_type": "markdown",
   "id": "a718c627-1554-475d-a549-122a3b2f4469",
   "metadata": {},
   "source": [
    "## Q11. Create a variable named \"is_student\" and assign it a boolean value indicating whether you are currently a student or not.\n"
   ]
  },
  {
   "cell_type": "code",
   "execution_count": null,
   "id": "fbadca20-c6d2-44e9-a71b-e59f35632c17",
   "metadata": {},
   "outputs": [],
   "source": [
    "## Ans\n",
    "is_student=True"
   ]
  },
  {
   "cell_type": "code",
   "execution_count": null,
   "id": "c69d67a8-0519-4a38-af0c-253eb53d03e4",
   "metadata": {},
   "outputs": [],
   "source": []
  }
 ],
 "metadata": {
  "kernelspec": {
   "display_name": "Python 3 (ipykernel)",
   "language": "python",
   "name": "python3"
  },
  "language_info": {
   "codemirror_mode": {
    "name": "ipython",
    "version": 3
   },
   "file_extension": ".py",
   "mimetype": "text/x-python",
   "name": "python",
   "nbconvert_exporter": "python",
   "pygments_lexer": "ipython3",
   "version": "3.10.8"
  }
 },
 "nbformat": 4,
 "nbformat_minor": 5
}
