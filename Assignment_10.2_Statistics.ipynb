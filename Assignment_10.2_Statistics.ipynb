{
 "cells": [
  {
   "cell_type": "markdown",
   "id": "f2952d12-db51-4f8a-8451-d57ea30bfbdd",
   "metadata": {},
   "source": [
    "## Q1. What are the three measures of central tendency?"
   ]
  },
  {
   "cell_type": "markdown",
   "id": "6e049dfe-1738-4b9d-b22f-d746e5ea0a5a",
   "metadata": {},
   "source": [
    "## Ans\n",
    "## The three main measures of central tendency are:\n",
    "\n",
    "## Mean (Average): The mean is calculated by adding up all the values in a dataset and then dividing by the number of values. It is the most common measure of central tendency.\n",
    "\n",
    "## Median: The median is the middle value in a dataset when it is ordered. If there is an even number of values, the median is the average of the two middle values.\n",
    "\n",
    "## Mode: The mode is the value that appears most frequently in a dataset. A dataset may have no mode, one mode, or more than one mode."
   ]
  },
  {
   "cell_type": "markdown",
   "id": "d3de5dad-5d54-4a7c-a4e5-5174cf826df9",
   "metadata": {},
   "source": [
    "## Q2. What is the difference between the mean, median, and mode? How are they used to measure the central tendency of a dataset?"
   ]
  },
  {
   "cell_type": "markdown",
   "id": "848e65f8-4a94-4b7d-bd32-041d26ec7a4e",
   "metadata": {},
   "source": [
    "## Ans\n",
    "## The mean, median, and mode are three different measures of central tendency that describe the typical or central value of a dataset. Here's a brief explanation of each and how they are used:\n",
    "\n",
    "## Mean (Average):\n",
    "\n",
    "## Calculation: Calculated by adding up all the values in a dataset and then dividing by the number of values.\n",
    "## Use: The mean is sensitive to extreme values, making it vulnerable to outliers. It provides a balance point for the data and is commonly used in various statistical analyses.\n",
    "## Median:\n",
    "\n",
    "## Calculation: The middle value in a dataset when it is ordered. If there is an even number of values, the median is the average of the two middle values.\n",
    "## Use: The median is less influenced by extreme values and is often preferred when the data set has outliers or is not symmetrically distributed. It represents the 50th percentile of the data.\n",
    "## Mode:\n",
    "\n",
    "## Calculation: The value that appears most frequently in a dataset. A dataset may have no mode, one mode, or more than one mode.\n",
    "## Use: The mode is useful for identifying the most common value(s) in a dataset. It is especially valuable for categorical data, where the concept of a \"middle\" value may not be applicable."
   ]
  },
  {
   "cell_type": "markdown",
   "id": "47370507-1883-4d32-8091-95b89291dc0a",
   "metadata": {},
   "source": [
    "## Q3. Measure the three measures of central tendency for the given height data:\n",
    "[178,177,176,177,178.2,178,175,179,180,175,178.9,176.2,177,172.5,178,176.5]"
   ]
  },
  {
   "cell_type": "markdown",
   "id": "6655c1c1-b376-47d5-b9e2-c586263a6706",
   "metadata": {},
   "source": [
    "## Ans\n",
    "## Mean (Average):\n",
    "## Mean=2735.3/16≈170.95\n",
    "\n",
    "\n",
    "## Median: Since there are 16 values, the median is the average of the 8th and 9th values.\n",
    "## Median=178+178.2=178.1\n",
    "## Mode:The mode is the value(s) that appear most frequently. Looking at the dataset, we can observe that the value    178 occurs three times, which is more frequent than any other value. Therefore, the mode of this dataset is 178."
   ]
  },
  {
   "cell_type": "markdown",
   "id": "044ce315-90db-4929-bd06-47829081fc01",
   "metadata": {},
   "source": [
    "## Q4. Find the standard deviation for the given data:\n",
    "[178,177,176,177,178.2,178,175,179,180,175,178.9,176.2,177,172.5,178,176.5]"
   ]
  },
  {
   "cell_type": "code",
   "execution_count": 1,
   "id": "718feca5-e790-40f5-9110-36f6e3bf9e8e",
   "metadata": {},
   "outputs": [
    {
     "data": {
      "text/plain": [
       "1.7885814036548633"
      ]
     },
     "execution_count": 1,
     "metadata": {},
     "output_type": "execute_result"
    }
   ],
   "source": [
    "## Ans\n",
    "import numpy as np\n",
    "np.std([178,177,176,177,178.2,178,175,179,180,175,178.9,176.2,177,172.5,178,176.5])"
   ]
  },
  {
   "cell_type": "markdown",
   "id": "cb571378-f129-4b88-a0ff-8267a8bdbd0f",
   "metadata": {},
   "source": [
    "## Q5. How are measures of dispersion such as range, variance, and standard deviation used to describe the spread of a dataset? Provide an example."
   ]
  },
  {
   "cell_type": "markdown",
   "id": "e59ea98b-6059-4f62-9650-2be90193669d",
   "metadata": {},
   "source": [
    "## Ans\n",
    "\n",
    "## Measures of dispersion, including range, variance, and standard deviation, are used to quantify the extent to which individual values in a dataset deviate from the central tendency (mean, median, or mode). They provide information about the spread, variability, or distribution of the data points. \n",
    "## Range:\n",
    "\n",
    "## Calculation: Range is the difference between the maximum and minimum values in a dataset.\n",
    "## Use: It gives a quick and straightforward indication of the overall spread. However, it is sensitive to outliers.\n",
    "## Example: If the heights of students in two different classes are compared, and one class has a range of 20 cm while the other has a range of 10 cm, the first class has a greater spread in heights.\n",
    "## Variance:\n",
    "\n",
    "## Calculation: Variance measures the average squared deviation of each data point from the mean.\n",
    "## Use: It provides a more comprehensive understanding of how individual values vary from the mean. However, the variance is in squared units, which may be less interpretable.\n",
    "## Example: For a set of exam scores, a high variance indicates that scores are dispersed widely around the mean, reflecting a diverse range of performance.\n",
    "## Standard Deviation:\n",
    "\n",
    "## Calculation: Standard deviation is the square root of the variance. It provides a measure of the average deviation of each data point from the mean in the original units.\n",
    "## Use: It is widely used due to its interpretability and is more sensitive to the actual variability in the data.\n",
    "## Example: If the standard deviation of the salaries in two companies is compared, and one has a standard deviation of $500, while the other has a standard deviation of $1000, the second company has a greater salary variability among its employees."
   ]
  },
  {
   "cell_type": "markdown",
   "id": "eaecdaaa-e5f1-48e6-9daa-7169fd617652",
   "metadata": {},
   "source": [
    "## Q6. What is a Venn diagram?"
   ]
  },
  {
   "cell_type": "markdown",
   "id": "6982a52f-fc79-484a-a9f7-2a46bbcefd95",
   "metadata": {},
   "source": [
    "## Ans\n",
    "## A Venn diagram is a visual representation used to show the relationships between sets. It consists of overlapping circles or other shapes, each representing a set, and the overlapping regions represent the elements that belong to more than one set. The primary purpose of a Venn diagram is to illustrate the logical relationships between different sets and their intersections."
   ]
  },
  {
   "cell_type": "markdown",
   "id": "a3191405-71ce-4d86-8236-17da412ac450",
   "metadata": {},
   "source": [
    "## Q7. For the two given sets A = (2,3,4,5,6,7) & B = (0,2,6,8,10). Find:\n",
    "## (i) A B\n",
    "## (ii) A ⋃ B"
   ]
  },
  {
   "cell_type": "code",
   "execution_count": 2,
   "id": "3c2ce509-5467-43ad-8207-9c2b7972374a",
   "metadata": {},
   "outputs": [
    {
     "data": {
      "text/plain": [
       "array([2, 6])"
      ]
     },
     "execution_count": 2,
     "metadata": {},
     "output_type": "execute_result"
    }
   ],
   "source": [
    "## Ans\n",
    "A=np.array([2,3,4,5,6,7])\n",
    "B =np.array( [0,2,6,8,10])\n",
    "np.intersect1d(A,B)\n"
   ]
  },
  {
   "cell_type": "markdown",
   "id": "7b59476a-6255-4864-a9e0-d604be6f54f3",
   "metadata": {},
   "source": [
    "## Q8. What do you understand about skewness in data?\n",
    "\n"
   ]
  },
  {
   "cell_type": "markdown",
   "id": "3846e317-9e98-4415-b83c-d5a0b81c25fe",
   "metadata": {},
   "source": [
    "## Skewness is a statistical measure that describes the asymmetry or lack of symmetry in a distribution of data. In a symmetrical distribution, the left and right sides are mirror images of each other, and the skewness is close to zero. However, in a skewed distribution, the tails on one side of the distribution are longer or fatter than the other side."
   ]
  },
  {
   "cell_type": "markdown",
   "id": "2302cb2c-a77c-4e29-a5e0-9347729ecf07",
   "metadata": {},
   "source": [
    "## Q9. If a data is right skewed then what will be the position of median with respect to mean?"
   ]
  },
  {
   "cell_type": "markdown",
   "id": "566bc1a8-2cd2-456b-8c39-9feb2474875d",
   "metadata": {},
   "source": [
    "## Ans\n",
    "##  in a right-skewed distribution, the position of the median will be to the left of the mean. The order is typically: Median < Mean."
   ]
  },
  {
   "cell_type": "markdown",
   "id": "25e38ae6-a134-40f1-ae01-e1a74b093a83",
   "metadata": {},
   "source": [
    "## Q10. Explain the difference between covariance and correlation. How are these measures used in statistical analysis?"
   ]
  },
  {
   "cell_type": "markdown",
   "id": "02c1a7a2-b09f-4e22-8de9-119b5ac462a5",
   "metadata": {},
   "source": [
    "## Covariance:\n",
    "\n",
    "## Definition: Covariance measures how two variables vary together. It indicates the direction of the linear relationship between two variables."
   ]
  },
  {
   "cell_type": "markdown",
   "id": "37964d66-7656-4d3b-b82f-0a920698b4a3",
   "metadata": {},
   "source": [
    "## Correlation:\n",
    "\n",
    "## Definition: Correlation is a standardized measure of the strength and direction of the linear relationship between two variables. It provides a more interpretable metric compared to covariance."
   ]
  },
  {
   "cell_type": "markdown",
   "id": "df054c8a-2b37-4c56-8133-fcfe464ea994",
   "metadata": {},
   "source": [
    "## Q11. What is the formula for calculating the sample mean? Provide an example calculation for a dataset."
   ]
  },
  {
   "cell_type": "markdown",
   "id": "2a70ff23-da0d-4c54-b5a7-9ba573338bb0",
   "metadata": {},
   "source": [
    "## Ans\n",
    "## sum of all datapoints divided by no of datapoints \n",
    "## Now, let's go through an example calculation. Consider the following dataset:\n",
    "## [12,15,18,20,22]\n",
    "## 12+15+18+20+22=87\n",
    "## Number of data points n=5\n",
    "## mean= 87/5=17.4"
   ]
  },
  {
   "cell_type": "markdown",
   "id": "64ebcc3e-685d-40ee-a43d-a5c22169225f",
   "metadata": {},
   "source": [
    "## Q12. For a normal distribution data what is the relationship between its measure of central tendency?"
   ]
  },
  {
   "cell_type": "markdown",
   "id": "340d80a4-0a79-4ed4-ae0e-f805c22f3f1a",
   "metadata": {},
   "source": [
    "## Ans\n",
    "##  However, it's important to note that not all distributions are perfectly symmetrical, and the relationship between these measures may differ in skewed or non-symmetrical distributions. In practice, the mean is often used as the primary measure of central tendency for normal distributions due to its mathematical properties and ease of interpretation."
   ]
  },
  {
   "cell_type": "markdown",
   "id": "21361f4a-3b75-463e-892b-651df27592e9",
   "metadata": {},
   "source": [
    "## Q13. How is covariance different from correlation?"
   ]
  },
  {
   "cell_type": "markdown",
   "id": "51cec415-0930-404f-9193-c2bfead1f9be",
   "metadata": {},
   "source": [
    "## Ans\n",
    "## In summary, while covariance and correlation both measure the relationship between two variables, correlation provides a more standardized and easily interpretable measure that is less sensitive to the scale of the variables. Correlation is generally preferred in statistical analysis due to its advantages in comparison and interpretation.\n",
    "\n",
    "\n",
    "\n",
    "\n",
    "\n"
   ]
  },
  {
   "cell_type": "markdown",
   "id": "1ea0e8d7-879e-4f75-8c27-23d2bffe0d26",
   "metadata": {},
   "source": [
    "## Q14. How do outliers affect measures of central tendency and dispersion? Provide an example."
   ]
  },
  {
   "cell_type": "markdown",
   "id": "69abb0c3-ccc7-480b-a4ef-e09fb960c71c",
   "metadata": {},
   "source": [
    "## Ans\n",
    "## Measures of Central Tendency:\n",
    "\n",
    "## Mean: Outliers can heavily influence the mean because it takes into account the value of each data point. An extreme value can pull the mean in its direction.\n",
    "## Median: The median is less affected by outliers since it is not influenced by extreme values. It represents the middle value and is less sensitive to skewness caused by outliers.\n",
    "## Mode: Outliers might not affect the mode directly. The mode is simply the most frequently occurring value and is less influenced by extreme values unless the outliers coincide with the mode.\n",
    "## Measures of Dispersion:\n",
    "\n",
    "## Range: Outliers can significantly affect the range because it is the difference between the maximum and minimum values. A single outlier can greatly increase the range.\n",
    "## Variance and Standard Deviation: Outliers, especially if they are far from the mean, can inflate the variance and standard deviation. Squaring the deviations in the variance calculation and then taking the square root in the standard deviation calculation magnifies the impact of extreme values.\n",
    "## Consider the dataset: \n",
    "## 10,15,20,25,30,35,40,1000\n",
    "\n",
    "## Mean: (10+15+20+25+30+35+40+1000)/8=188.13\n",
    "## Median: 27.5 (the middle value)\n",
    "## Mode: No mode\n",
    "## Range: \n",
    "## 1000−10=990\n",
    "## Variance: ≈24753.25\n",
    "## Standard Deviation: ≈157.41"
   ]
  },
  {
   "cell_type": "code",
   "execution_count": null,
   "id": "e0a9a6b8-b8bb-43dc-8ebb-6c3b5f76ddf9",
   "metadata": {},
   "outputs": [],
   "source": []
  }
 ],
 "metadata": {
  "kernelspec": {
   "display_name": "Python 3 (ipykernel)",
   "language": "python",
   "name": "python3"
  },
  "language_info": {
   "codemirror_mode": {
    "name": "ipython",
    "version": 3
   },
   "file_extension": ".py",
   "mimetype": "text/x-python",
   "name": "python",
   "nbconvert_exporter": "python",
   "pygments_lexer": "ipython3",
   "version": "3.10.8"
  }
 },
 "nbformat": 4,
 "nbformat_minor": 5
}
