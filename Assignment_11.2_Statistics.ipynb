{
 "cells": [
  {
   "cell_type": "markdown",
   "id": "cad16e91-6129-44a4-a015-1d186e61fe17",
   "metadata": {},
   "source": [
    "Q1: What are the Probability Mass Function (PMF) and Probability Density Function (PDF)? Explain with\n",
    "an example.\n",
    "\n",
    "\n",
    "Q2: What is Cumulative Density Function (CDF)? Explain with an example. Why CDF is used?\n",
    "\n",
    "\n",
    "Q3: What are some examples of situations where the normal distribution might be used as a model?Explain how the parameters of the normal distribution relate to the shape of the distribution.\n",
    "\n",
    "\n",
    "Q4: Explain the importance of Normal Distribution. Give a few real-life examples of Normal\n",
    "Distribution.\n",
    "\n",
    "\n",
    "Q5: What is Bernaulli Distribution? Give an Example. What is the difference between Bernoulli\n",
    "Distribution and Binomial Distribution?\n",
    "\n",
    "\n",
    "Q6. Consider a dataset with a mean of 50 and a standard deviation of 10. If we assume that the dataset is normally distributed, what is the probability that a randomly selected observation will be greater than 60? Use the appropriate formula and show your calculations.\n",
    "\n",
    "\n",
    "Q7: Explain uniform Distribution with an example.\n",
    "\n",
    "\n",
    "Q8: What is the z score? State the importance of the z score.\n",
    "\n",
    "\n",
    "Q9: What is Central Limit Theorem? State the significance of the Central Limit Theorem.\n",
    "\n",
    "\n",
    "Q10: State the assumptions of the Central Limit Theorem."
   ]
  },
  {
   "cell_type": "markdown",
   "id": "f56add32-5759-4f07-a945-7f43ff812e50",
   "metadata": {},
   "source": [
    "## ++++++++++++++++++++++ANSWERS+++++++++++++++++++++++"
   ]
  },
  {
   "cell_type": "markdown",
   "id": "69d1c2c3-8006-40a5-bb30-59676fdad95c",
   "metadata": {},
   "source": [
    "Q1: PMF and PDF\n",
    "Probability Mass Function (PMF):\n",
    "\n",
    "The PMF is used for discrete random variables. It gives the probability that a discrete random variable is exactly equal to some value.\n",
    "Example: Suppose we roll a fair six-sided die. The random variable X (the outcome of the die roll) can take any integer value from 1 to 6.\n",
    "Probability Density Function (PDF):\n",
    "\n",
    "The PDF is used for continuous random variables. It describes the likelihood of the random variable taking on a specific value, though the probability of a continuous random variable being exactly a particular value is zero. Instead, the PDF is used to find the probability that the variable falls within a certain range.\n",
    "Example: For a normal distribution with mean 0 and standard deviation 1"
   ]
  },
  {
   "cell_type": "markdown",
   "id": "2a5dfa97-97fe-4ca2-9b8a-c57470ce209a",
   "metadata": {},
   "source": [
    "Q2: Cumulative Distribution Function (CDF)\n",
    "The CDF gives the probability that a random variable takes on a value less than or equal to a particular value. It is applicable for both discrete and continuous random variables.\n",
    "Example: For a standard normal distribution (mean 0, standard deviation 1), the CDF \n",
    "𝐹(𝑥) at 𝑥=1 is approximately 0.8413, meaning there is an 84.13% chance that a randomly selected value from this distribution will be less than or equal to 1.\n",
    "Why CDF is used: It provides a comprehensive view of the distribution and allows us to compute probabilities over intervals. It is especially useful in hypothesis testing and in calculating probabilities for ranges."
   ]
  },
  {
   "cell_type": "markdown",
   "id": "0997c09f-6737-4543-bcca-92d9ad99b7b1",
   "metadata": {},
   "source": [
    "Q3: Normal Distribution\n",
    "\n",
    "The normal distribution is used in many real-life situations where the data tends to cluster around a mean value. Examples include:\n",
    "\n",
    "Heights of people\n",
    "\n",
    "Test scores in standardized exams\n",
    "\n",
    "Measurement errors in scientific experiments"
   ]
  },
  {
   "cell_type": "markdown",
   "id": "d7dcd433-3dda-4348-8cda-14a4c452d6cd",
   "metadata": {},
   "source": [
    "Q4: Importance of Normal Distribution\n",
    "\n",
    "Significance: The normal distribution is crucial because many natural phenomena and measurement errors follow it. It underpins many statistical methods and theorems, including hypothesis testing and confidence intervals.\n",
    "\n",
    "Real-life Examples:\n",
    "\n",
    "IQ scores (often standardized to follow a normal distribution)\n",
    "\n",
    "Heights of adults within a population\n",
    "\n",
    "Errors in manufacturing processes"
   ]
  },
  {
   "cell_type": "markdown",
   "id": "4cbc749d-c8b2-43c0-84d7-0c75b8dce88b",
   "metadata": {},
   "source": [
    "Q5: Bernoulli Distribution\n",
    "Definition: The Bernoulli distribution is a discrete probability distribution for a random variable which takes the value 1 with probability \n",
    "p and 0 with probability 1−p. It models a single trial of a binary experiment.\n",
    "Example: Tossing a coin can be modeled as a Bernoulli distribution where heads (success) might be 1 with probability p, and tails (failure) might be 0 with probability1−p.Difference from Binomial Distribution: The Bernoulli distribution is a special case of the Binomial distribution where the number of trials \n",
    "n=1. The Binomial distribution generalizes this to n independent Bernoulli trials."
   ]
  },
  {
   "cell_type": "markdown",
   "id": "f8afab98-ae52-4edc-81f2-3b83497846b1",
   "metadata": {},
   "source": [
    "Q6: Probability Calculation\n",
    "Given: Mean \n",
    "μ=50 and Standard Deviation \n",
    "σ=10.\n",
    "Find the probability that X>60.\n",
    "\n",
    "Convert to Z-score:\n",
    "\n",
    "Find Probability using Z-table:\n",
    "The Z-score of 1 corresponds to a cumulative probability of approximately 0.8413.\n",
    "P(X>60)=1−P(X≤60)=1−0.8413=0.1587"
   ]
  },
  {
   "cell_type": "markdown",
   "id": "fc36e310-f6cf-46b9-8c0f-4b58a3a472a4",
   "metadata": {},
   "source": [
    "Q7: Uniform Distribution\n",
    "Definition: In a uniform distribution, all outcomes are equally likely within a certain range. It can be continuous or discrete.\n",
    "Example (Continuous): Suppose a random variable \n",
    "𝑋\n",
    "X is uniformly distributed between 0 and 10. The PDF is constant \n",
    "f(x)= 0.1 for 0≤x≤10. The probability of X falling within any sub-interval is proportional to the length of the interval."
   ]
  },
  {
   "cell_type": "markdown",
   "id": "28d04273-f659-4f17-988c-42a66e59bf6c",
   "metadata": {},
   "source": [
    "Q8: Z Score\n",
    "Definition: A Z-score measures how many standard deviations an element is from the mean of the distribution.\n",
    "Importance: It standardizes different distributions to a common scale, allowing for comparison across different datasets or distributions. It is essential in identifying outliers and conducting hypothesis tests."
   ]
  },
  {
   "cell_type": "markdown",
   "id": "91b531d2-ca77-4692-9335-30d1c15d4bd8",
   "metadata": {},
   "source": [
    "Q9: Central Limit Theorem (CLT)\n",
    "Definition: The CLT states that the distribution of the sample mean of a sufficiently large number of independent, identically distributed random variables will be approximately normally distributed, regardless of the original distribution.\n",
    "Significance: The CLT justifies the use of the normal distribution for inference and hypothesis testing, even when the underlying distribution is not normal, provided the sample size is large enough."
   ]
  },
  {
   "cell_type": "markdown",
   "id": "22dff1c4-3d28-4223-b083-8af4a2eeb379",
   "metadata": {},
   "source": [
    "Q10: Assumptions of Central Limit Theorem\n",
    "Independence: The samples must be independent of each other.\n",
    "Identically Distributed: The samples must come from the same distribution with the same parameters.\n",
    "Sample Size: For practical purposes, the sample size should be sufficiently large (often n ≥ 30 is used as a rule of thumb, but this can vary depending on the distribution)."
   ]
  }
 ],
 "metadata": {
  "kernelspec": {
   "display_name": "Python 3 (ipykernel)",
   "language": "python",
   "name": "python3"
  },
  "language_info": {
   "codemirror_mode": {
    "name": "ipython",
    "version": 3
   },
   "file_extension": ".py",
   "mimetype": "text/x-python",
   "name": "python",
   "nbconvert_exporter": "python",
   "pygments_lexer": "ipython3",
   "version": "3.10.8"
  }
 },
 "nbformat": 4,
 "nbformat_minor": 5
}
