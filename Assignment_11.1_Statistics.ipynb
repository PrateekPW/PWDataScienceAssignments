{
 "cells": [
  {
   "cell_type": "markdown",
   "id": "bacf988c-472d-4683-b25c-89ec49db8ebd",
   "metadata": {},
   "source": [
    "Q1. What is the Probability density function?\n",
    "\n",
    "\n",
    "Ans> A function that defines the relationship between a random variable and its probability, such that you can find the probability of the variable using the function, is called a Probability Density Function (PDF) in statistics."
   ]
  },
  {
   "cell_type": "markdown",
   "id": "b71064c4-994f-409f-8c42-cc31845622d2",
   "metadata": {},
   "source": [
    "Q2. What are the types of Probability distribution?\n",
    "\n",
    "Ans> There are two types of probability distributions: Discrete probability distributions. Continuous probability distributions."
   ]
  },
  {
   "cell_type": "markdown",
   "id": "d3900e9e-f92e-440c-b7f8-683608b3d53e",
   "metadata": {},
   "source": [
    "Q3. Write a Python function to calculate the probability density function of a normal distribution with\n",
    "given mean and standard deviation at a given point."
   ]
  },
  {
   "cell_type": "code",
   "execution_count": 2,
   "id": "57b4aaa7-ac22-4347-b9eb-1321897e6af8",
   "metadata": {},
   "outputs": [
    {
     "name": "stdout",
     "output_type": "stream",
     "text": [
      "0.24197072451914337\n"
     ]
    }
   ],
   "source": [
    "import math\n",
    "\n",
    "def normal_pdf(x, mean, std_dev):\n",
    "    \"\"\"\n",
    "    Calculate the probability density function of a normal distribution.\n",
    "\n",
    "    Parameters:\n",
    "    x (float): The point at which to evaluate the PDF.\n",
    "    mean (float): The mean of the normal distribution.\n",
    "    std_dev (float): The standard deviation of the normal distribution.\n",
    "\n",
    "    Returns:\n",
    "    float: The probability density function value at x.\n",
    "    \"\"\"\n",
    "    # Calculate the coefficient (1 / (sqrt(2 * pi * sigma^2)))\n",
    "    coefficient = 1 / (math.sqrt(2 * math.pi) * std_dev)\n",
    "    \n",
    "    # Calculate the exponent term (-((x - mu)^2 / (2 * sigma^2)))\n",
    "    exponent = -((x - mean) ** 2) / (2 * std_dev ** 2)\n",
    "    \n",
    "    # Calculate the PDF\n",
    "    pdf_value = coefficient * math.exp(exponent)\n",
    "    \n",
    "    return pdf_value\n",
    "\n",
    "# Example usage\n",
    "mean = 0\n",
    "std_dev = 1\n",
    "x = 1\n",
    "print(normal_pdf(x, mean, std_dev))"
   ]
  },
  {
   "cell_type": "markdown",
   "id": "c336c906-4978-418f-b32e-a8a13a0e4fa1",
   "metadata": {},
   "source": [
    "Q4. What are the properties of Binomial distribution? Give two examples of events where binomial\n",
    "distribution can be applied.\n",
    "\n",
    "Ans> \n",
    "There are only two distinct possible outcomes: true/false, success/failure, yes/no.\n",
    "There is a fixed number of 'n' times repeated trials in a given experiment."
   ]
  },
  {
   "cell_type": "markdown",
   "id": "348f9094-1702-4fa4-9b2d-1212dd062e46",
   "metadata": {},
   "source": [
    "Q5. Generate a random sample of size 1000 from a binomial distribution with probability of success 0.4\n",
    "and plot a histogram of the results using matplotlib."
   ]
  },
  {
   "cell_type": "code",
   "execution_count": 3,
   "id": "d939f0dd-ebf5-46c6-979d-b12dfe7ab5f5",
   "metadata": {},
   "outputs": [
    {
     "data": {
      "text/plain": [
       "(array([  3.,  38., 130., 227., 233., 197., 119.,  42.,   8.,   3.]),\n",
       " array([ 0.,  1.,  2.,  3.,  4.,  5.,  6.,  7.,  8.,  9., 10.]),\n",
       " <BarContainer object of 10 artists>)"
      ]
     },
     "execution_count": 3,
     "metadata": {},
     "output_type": "execute_result"
    },
    {
     "data": {
      "image/png": "[encoded data removed]",
      "text/plain": [
       "<Figure size 640x480 with 1 Axes>"
      ]
     },
     "metadata": {},
     "output_type": "display_data"
    }
   ],
   "source": [
    "import numpy as np\n",
    "import matplotlib.pyplot as plt\n",
    "n=10\n",
    "p=0.4\n",
    "size=1000\n",
    "a=np.random.binomial(n,p,size)\n",
    "plt.hist(a)"
   ]
  },
  {
   "cell_type": "markdown",
   "id": "e3c6c7c1-28b5-4ce3-b23d-27aeb11f234d",
   "metadata": {},
   "source": [
    "Q6. Write a Python function to calculate the cumulative distribution function of a Poisson distribution\n",
    "with given mean at a given point."
   ]
  },
  {
   "cell_type": "code",
   "execution_count": 4,
   "id": "aca2629d-bf65-4df1-a982-c6b07817c469",
   "metadata": {},
   "outputs": [
    {
     "name": "stdout",
     "output_type": "stream",
     "text": [
      "0.8152632445237721\n"
     ]
    }
   ],
   "source": [
    "import math\n",
    "\n",
    "def poisson_cdf(x, mean):\n",
    "    x = int(x)\n",
    "    cdf_value = 0\n",
    "    for k in range(x + 1):\n",
    "        cdf_value += (mean ** k * math.exp(-mean)) / math.factorial(k)\n",
    "    \n",
    "    return cdf_value\n",
    "\n",
    "\n",
    "mean = 3\n",
    "x = 4\n",
    "print(poisson_cdf(x, mean))"
   ]
  },
  {
   "cell_type": "markdown",
   "id": "e30ccc81-be63-4199-90b2-c5c4669a1ddf",
   "metadata": {},
   "source": [
    "Q7. How Binomial distribution different from Poisson distribution?"
   ]
  },
  {
   "cell_type": "markdown",
   "id": "309e58d9-582e-4d34-a248-7bb027d0c0a5",
   "metadata": {},
   "source": [
    "The binomial distribution models the number of successes in a fixed number of independent Bernoulli trials (or experiments), each with the same probability of success.\n",
    "The Poisson distribution models the number of events occurring in a fixed interval of time or space, given a constant mean rate of occurrence."
   ]
  },
  {
   "cell_type": "markdown",
   "id": "58abaf4b-fa6c-4dab-9476-6e4ce1d80a26",
   "metadata": {},
   "source": [
    "Q8. Generate a random sample of size 1000 from a Poisson distribution with mean 5 and calculate the\n",
    "sample mean and variance."
   ]
  },
  {
   "cell_type": "code",
   "execution_count": 5,
   "id": "941771f3-7124-4de2-a5c3-37e3ba1e716d",
   "metadata": {},
   "outputs": [
    {
     "name": "stdout",
     "output_type": "stream",
     "text": [
      "Sample Mean: 4.99\n",
      "Sample Variance: 4.6999\n"
     ]
    }
   ],
   "source": [
    "import numpy as np\n",
    "\n",
    "# Parameters\n",
    "mean = 5\n",
    "sample_size = 1000\n",
    "\n",
    "# Generate random sample\n",
    "sample = np.random.poisson(mean, sample_size)\n",
    "\n",
    "# Calculate sample mean and variance\n",
    "sample_mean = np.mean(sample)\n",
    "sample_variance = np.var(sample)\n",
    "\n",
    "print(f\"Sample Mean: {sample_mean}\")\n",
    "print(f\"Sample Variance: {sample_variance}\")"
   ]
  },
  {
   "cell_type": "markdown",
   "id": "7c650359-3a37-4649-b704-069c0ce7f226",
   "metadata": {},
   "source": [
    "Q9. How mean and variance are related in Binomial distribution and Poisson distribution?"
   ]
  },
  {
   "cell_type": "markdown",
   "id": "b0aeb42f-3915-4cab-891f-ff4eecb69a10",
   "metadata": {},
   "source": [
    "For a Poisson distribution, the mean and variance are equal.\n",
    "For a binomial distribution, the variance depends on both the probability of success and the number of trials, whereas the mean depends linearly on the number of trials and the probability of success."
   ]
  },
  {
   "cell_type": "markdown",
   "id": "d2eccf66-d363-4a12-b957-3bb09a29e8b3",
   "metadata": {},
   "source": [
    "Q10. In normal distribution with respect to mean position, where does the least frequent data appear?"
   ]
  },
  {
   "cell_type": "markdown",
   "id": "1d253db7-79e0-429a-b341-f3262a7b9d26",
   "metadata": {},
   "source": [
    "Ans> The least frequent data in a normal distribution appear in the extreme tails of the distribution, far from the mean."
   ]
  }
 ],
 "metadata": {
  "kernelspec": {
   "display_name": "Python 3 (ipykernel)",
   "language": "python",
   "name": "python3"
  },
  "language_info": {
   "codemirror_mode": {
    "name": "ipython",
    "version": 3
   },
   "file_extension": ".py",
   "mimetype": "text/x-python",
   "name": "python",
   "nbconvert_exporter": "python",
   "pygments_lexer": "ipython3",
   "version": "3.10.8"
  }
 },
 "nbformat": 4,
 "nbformat_minor": 5
}
