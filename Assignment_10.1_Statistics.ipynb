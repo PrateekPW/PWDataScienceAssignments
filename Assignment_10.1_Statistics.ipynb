{
 "cells": [
  {
   "cell_type": "markdown",
   "id": "db850625-0bfd-4815-8aed-d12ea2717d8c",
   "metadata": {},
   "source": [
    "## Q1. What is Statistics?"
   ]
  },
  {
   "cell_type": "markdown",
   "id": "fe8d4a55-4926-4a82-b6a5-1072f840d05b",
   "metadata": {},
   "source": [
    "## Ans-> It is the science of collecting,organizing and analyzing data"
   ]
  },
  {
   "cell_type": "markdown",
   "id": "c98d215f-e9b6-4321-8727-c5fe1a58c3e6",
   "metadata": {},
   "source": [
    "## Q2. Define the different types of statistics and give an example of when each type might be used."
   ]
  },
  {
   "cell_type": "markdown",
   "id": "0d0ca7a0-07e9-4879-930a-c8da24fcb341",
   "metadata": {},
   "source": [
    "## Ans\n",
    "## 1> Descriptive Statistics-> It consist of organizing and summarizing the data\n",
    "## Example Measure of central tendency (Mean,median,mode)\n",
    "## 2> Inferential Statistics->It consist of using data that we have measured to form conclusion\n",
    "## Example-> z-test,t-test"
   ]
  },
  {
   "cell_type": "markdown",
   "id": "3b8ea71e-9002-43c3-9030-1eecaf51ebb4",
   "metadata": {},
   "source": [
    "## Q3. What are the different types of data and how do they differ from each other? Provide an example of each type of data."
   ]
  },
  {
   "cell_type": "markdown",
   "id": "7c8cebcb-1ac8-4999-8473-2cb5457b3c50",
   "metadata": {},
   "source": [
    "## Ans\n",
    "## Qualitative Data:\n",
    "\n",
    "## Definition: Qualitative data is non-numeric and represents qualities or characteristics.\n",
    "## Example: Colors, emotions, or opinions. For instance, the colors of cars in a parking lot or feedback from customers about a product.\n",
    "## Quantitative Data:\n",
    "## Definition: Quantitative data is numeric and represents quantities or measurable values.\n",
    "## Example: Heights, weights, or temperatures. For example, the height of students in a class or the number of items sold in a store."
   ]
  },
  {
   "cell_type": "markdown",
   "id": "61c1e972-e811-439e-aa88-3005fe278316",
   "metadata": {},
   "source": [
    "## Q4. Categorise the following datasets with respect to quantitative and qualitative data types:\n",
    "## (i) Grading in exam: A+, A, B+, B, C+, C, D, E\n",
    "## (ii) Colour of mangoes: yellow, green, orange, red\n",
    "## (iii) Height data of a class: [178.9, 179, 179.5, 176, 177.2, 178.3, 175.8,...]\n",
    "## (iv) Number of mangoes exported by a farm: [500, 600, 478, 672, ...]"
   ]
  },
  {
   "cell_type": "markdown",
   "id": "4184e0c7-d5b0-44c6-a0a1-6c3bba90eecc",
   "metadata": {},
   "source": [
    "## Ans\n",
    "## (i) Grading in exam:\n",
    "## Type: Qualitative (Ordinal)\n",
    "## Explanation: Grading is a qualitative variable, and the grades (A+, A, B+, B, C+, C, D, E) have a meaningful order, indicating the performance level in a ranked manner.\n",
    "## (ii) Colour of mangoes:\n",
    "\n",
    "## Type: Qualitative (Nominal)\n",
    "## Explanation: The color of mangoes is a qualitative variable without a specific order. The colors (yellow, green, orange, red) represent different categories without any inherent ranking.\n",
    "## (iii) Height data of a class:\n",
    "\n",
    "## Type: Quantitative (Continuous)\n",
    "## Explanation: The height data is a quantitative variable as it consists of numeric values that can take any value within a range. Heights such as 178.9, 179, and 175.8 are continuous measurements.\n",
    "## (iv) Number of mangoes exported by a farm:\n",
    "\n",
    "## Type: Quantitative (Discrete)\n",
    "## Explanation: The number of mangoes is a quantitative variable with discrete values, as it represents a count of individual items. Values like 500, 600, and 478 are distinct and separate counts.\n",
    "\n",
    "\n",
    "\n",
    "\n"
   ]
  },
  {
   "cell_type": "markdown",
   "id": "8665ab48-8502-4354-9b9a-abc58833fb9f",
   "metadata": {},
   "source": [
    "## Q5. Explain the concept of levels of measurement and give an example of a variable for each level."
   ]
  },
  {
   "cell_type": "markdown",
   "id": "0ee52b0e-78a7-4ebe-b9cc-936faa4c7029",
   "metadata": {},
   "source": [
    "## Ans-> \n",
    "## Nominal Level:\n",
    "\n",
    "## Characteristics: Nominal data represents categories or labels with no inherent order or ranking. It is the simplest form of measurement.\n",
    "## Example: Colors of cars (e.g., red, blue, green). The colors have no inherent order; they are just different categories.\n",
    "## Ordinal Level:\n",
    "\n",
    "## Characteristics: Ordinal data represents categories with a meaningful order or ranking, but the intervals between the categories are not uniform or meaningful.\n",
    "## Example: Education levels (e.g., high school, bachelor's, master's, PhD). While there is an order, the difference between high school and bachelor's is not necessarily the same as the difference between bachelor's and master's."
   ]
  },
  {
   "cell_type": "markdown",
   "id": "f9809cfa-89d9-4b90-8b3e-7eabe79fadf5",
   "metadata": {},
   "source": [
    "## Q6. Why is it important to understand the level of measurement when analyzing data? Provide an example to illustrate your answer."
   ]
  },
  {
   "cell_type": "markdown",
   "id": "8ef20294-8cb6-4131-a7b5-829622d736bd",
   "metadata": {},
   "source": [
    "## Ans\n",
    "## Understanding the level of measurement when analyzing data is crucial because it determines the types of statistical analyses and operations that can be appropriately applied to the data. Different levels of measurement have distinct properties, and using statistical methods that are not suitable for the level of data can lead to inaccurate or misleading results.\n",
    "## Example:\n",
    "## Consider the variable \"income\" measured at different levels:\n",
    "\n",
    "## If income is measured in categories like \"low,\" \"medium,\" and \"high\" (ordinal), applying the mean or performing arithmetic operations is not appropriate because the intervals between categories are not consistent."
   ]
  },
  {
   "cell_type": "markdown",
   "id": "785c387d-6681-4ee6-8abf-5859e12ad6d3",
   "metadata": {},
   "source": [
    "## Q7. How nominal data type is different from ordinal data type."
   ]
  },
  {
   "cell_type": "markdown",
   "id": "1e9c1969-2e32-4aaf-9e91-f8666e4b3934",
   "metadata": {},
   "source": [
    "## Ans\n",
    "## Nominal Data:\n",
    "\n",
    "## Definition: Nominal data represents categories or labels with no inherent order or ranking.\n",
    "## Example : Colours,Gender\n",
    "## Ordinal Data:\n",
    "\n",
    "## Definition: Ordinal data represents categories with a meaningful order or ranking.\n",
    "## Example: customer Products"
   ]
  },
  {
   "cell_type": "markdown",
   "id": "18b78cdd-d274-454f-a8f0-83a8d92e39e5",
   "metadata": {},
   "source": [
    "## Q8. Which type of plot can be used to display data in terms of range?"
   ]
  },
  {
   "cell_type": "markdown",
   "id": "907ab7c6-1f2e-4712-a9c5-3469efe37bd6",
   "metadata": {},
   "source": [
    "## Ans"
   ]
  },
  {
   "cell_type": "markdown",
   "id": "ed374e4a-7ec2-4679-83cf-e8c25d203a72",
   "metadata": {},
   "source": [
    "## A box plot (box-and-whisker plot) is commonly used to display data in terms of range. "
   ]
  },
  {
   "cell_type": "markdown",
   "id": "9c3c4060-cfed-4466-b167-2b0cd95ad99a",
   "metadata": {},
   "source": [
    "## Q9. Describe the difference between descriptive and inferential statistics. Give an example of each type of statistics and explain how they are used."
   ]
  },
  {
   "cell_type": "markdown",
   "id": "4ab603ec-1ac7-4e8a-bad0-0c78b1973915",
   "metadata": {},
   "source": [
    "## Ans\n",
    "## Descriptive Statistics:\n",
    "\n",
    "## Definition: Descriptive statistics involves summarizing and presenting data in a meaningful way. It describes the main features of a dataset, such as its central tendency, dispersion, and shape.\n",
    "## Purpose: The primary goal is to simplify and organize large amounts of data to make it more understandable. Descriptive statistics provide insights into the main characteristics of the data without making inferences or generalizations beyond the observed sample.\n",
    "## Examples: Mean, median, mode, range, standard deviation, and histograms are examples of descriptive statistics.\n",
    "## Inferential Statistics:\n",
    "\n",
    "## Definition: Inferential statistics involves making predictions, inferences, or generalizations about a population based on a sample of data. It uses probability theory to draw conclusions about the larger population from which the sample is drawn.\n",
    "## Purpose: The main goal is to make educated guesses or predictions about the population parameters based on the observed sample data.\n",
    "## Examples: t-tests, analysis of variance (ANOVA), regression analysis, chi-square tests, and confidence intervals are examples of inferential statistics."
   ]
  },
  {
   "cell_type": "markdown",
   "id": "00275922-be10-4843-a082-613949cad255",
   "metadata": {},
   "source": [
    "## Q10. What are some common measures of central tendency and variability used in statistics? Explain how each measure can be used to describe a dataset."
   ]
  },
  {
   "cell_type": "markdown",
   "id": "2f8b7532-78e7-4587-9940-ddd67a7a3e09",
   "metadata": {},
   "source": [
    "## Ans\n",
    "## Mean:\n",
    "\n",
    "## Definition: The mean is the arithmetic average of a set of values. It is calculated by adding up all the values and dividing by the number of observations.\n",
    "\n",
    "## Median:\n",
    "\n",
    "## Definition: The median is the middle value in a sorted dataset. If there is an even number of observations, the median is the average of the two middle values.\n",
    "\n",
    "\n",
    "## Definition: The mode is the value that occurs most frequently in a dataset.\n",
    "## Measures of Variability:\n",
    "\n",
    "## Range:\n",
    "\n",
    "## Definition: The range is the difference between the maximum and minimum values in a dataset.\n",
    "\n",
    "## Variance:\n",
    "\n",
    "## Definition: Variance measures the average squared deviation of each data point from the mean. It is calculated by summing the squared differences and dividing by the number of observations.\n",
    "\n",
    "## Standard Deviation:\n",
    "\n",
    "## Definition: The standard deviation is the square root of the variance. It measures the average deviation of each data point from the mean.\n",
    "\n",
    "## Interquartile Range (IQR):\n",
    "\n",
    "## Definition: The IQR is the range of values between the first quartile (Q1) and the third quartile (Q3) in a dataset.\n"
   ]
  },
  {
   "cell_type": "code",
   "execution_count": null,
   "id": "09a61689-86ea-4da2-9249-0ada9d710940",
   "metadata": {},
   "outputs": [],
   "source": []
  }
 ],
 "metadata": {
  "kernelspec": {
   "display_name": "Python 3 (ipykernel)",
   "language": "python",
   "name": "python3"
  },
  "language_info": {
   "codemirror_mode": {
    "name": "ipython",
    "version": 3
   },
   "file_extension": ".py",
   "mimetype": "text/x-python",
   "name": "python",
   "nbconvert_exporter": "python",
   "pygments_lexer": "ipython3",
   "version": "3.10.8"
  }
 },
 "nbformat": 4,
 "nbformat_minor": 5
}
