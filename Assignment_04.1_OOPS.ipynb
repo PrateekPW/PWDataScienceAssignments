{
 "cells": [
  {
   "cell_type": "markdown",
   "id": "5e51955d-cc9b-4770-b00d-afed5fb0168f",
   "metadata": {},
   "source": [
    "## Q1, Create a vehicle class with an init method having instance variables as name_of_vehicle, max_speed and average_of_vehicle."
   ]
  },
  {
   "cell_type": "code",
   "execution_count": 10,
   "id": "2ef30c31-d7d5-4ae6-b9cb-87e57e1ed2c9",
   "metadata": {},
   "outputs": [],
   "source": [
    "class vehicle:\n",
    "    def __init__(self,name_of_vehicle,max_speed,average_of_vehicle):\n",
    "        self.name_of_vehicle=name_of_vehicle\n",
    "        self.max_speed=max_speed\n",
    "        self.average_of_vehicle=average_of_vehicle\n",
    "    def set_max_speed(self,max_speed):\n",
    "        self.max_speed=0 if max_speed<0 else max_speed\n",
    "    def get_max_speed(self):\n",
    "        return self.max_speed\n",
    "    def ret(self):\n",
    "        return self.name_of_vehicle,self.max_speed,self.average_of_vehicle"
   ]
  },
  {
   "cell_type": "code",
   "execution_count": 11,
   "id": "0c2b2e45-807d-4199-a57f-e30462ca4b9e",
   "metadata": {},
   "outputs": [],
   "source": [
    "v=vehicle(\"Toyota\",200,12)"
   ]
  },
  {
   "cell_type": "code",
   "execution_count": 12,
   "id": "be50c347-6efb-4c05-832a-933b494ee477",
   "metadata": {},
   "outputs": [
    {
     "data": {
      "text/plain": [
       "200"
      ]
     },
     "execution_count": 12,
     "metadata": {},
     "output_type": "execute_result"
    }
   ],
   "source": [
    "v.get_max_speed()"
   ]
  },
  {
   "cell_type": "code",
   "execution_count": 14,
   "id": "78af654e-3efd-4e23-a9ea-cbdbe97bddc4",
   "metadata": {},
   "outputs": [
    {
     "data": {
      "text/plain": [
       "'Toyota'"
      ]
     },
     "execution_count": 14,
     "metadata": {},
     "output_type": "execute_result"
    }
   ],
   "source": [
    "v.name_of_vehicle"
   ]
  },
  {
   "cell_type": "code",
   "execution_count": 15,
   "id": "6e79174e-ee3b-4d29-b322-496aab55f7d8",
   "metadata": {},
   "outputs": [
    {
     "data": {
      "text/plain": [
       "('Toyota', 200, 12)"
      ]
     },
     "execution_count": 15,
     "metadata": {},
     "output_type": "execute_result"
    }
   ],
   "source": [
    "v.ret()"
   ]
  },
  {
   "cell_type": "markdown",
   "id": "83c0a4ad-c858-4694-9fd3-d852afe23b1c",
   "metadata": {},
   "source": [
    "## Q2. Create a child class car from the vehicle class created in Que 1, which will inherit the vehicle class. Create a method named seating_capacity which takes capacity as an argument and returns the name of the vehicle and its seating capacity."
   ]
  },
  {
   "cell_type": "code",
   "execution_count": 24,
   "id": "842884b5-ed51-40a5-a845-942774879cbd",
   "metadata": {},
   "outputs": [],
   "source": [
    "class car(vehicle):\n",
    "    def sitting_capacity(self,sitting_capacity):\n",
    "        self.sitting_capacity=sitting_capacity\n",
    "    def get_sitting_capacity(self):\n",
    "        return self.sitting_capacity"
   ]
  },
  {
   "cell_type": "code",
   "execution_count": 25,
   "id": "fcd14860-07a3-4dbe-a477-6029ba72873a",
   "metadata": {},
   "outputs": [],
   "source": [
    "c=car(\"Toyota\",200,12)"
   ]
  },
  {
   "cell_type": "code",
   "execution_count": 26,
   "id": "920c3349-cd15-494b-bcc7-07c4cae082f3",
   "metadata": {},
   "outputs": [
    {
     "data": {
      "text/plain": [
       "'Toyota'"
      ]
     },
     "execution_count": 26,
     "metadata": {},
     "output_type": "execute_result"
    }
   ],
   "source": [
    "c.name_of_vehicle"
   ]
  },
  {
   "cell_type": "code",
   "execution_count": 27,
   "id": "fe3e0ee1-2aac-482d-99f4-c38daf949baf",
   "metadata": {},
   "outputs": [],
   "source": [
    "c.sitting_capacity(52)"
   ]
  },
  {
   "cell_type": "code",
   "execution_count": 28,
   "id": "52a6153c-3cd8-44bb-8ab3-50f638a3fe54",
   "metadata": {},
   "outputs": [
    {
     "data": {
      "text/plain": [
       "52"
      ]
     },
     "execution_count": 28,
     "metadata": {},
     "output_type": "execute_result"
    }
   ],
   "source": [
    "c.get_sitting_capacity()"
   ]
  },
  {
   "cell_type": "markdown",
   "id": "3c54c54f-0a34-434d-adee-023930ab916e",
   "metadata": {},
   "source": [
    "## Q3. What is multiple inheritance? Write a python code to demonstrate multiple inheritance."
   ]
  },
  {
   "cell_type": "markdown",
   "id": "b5df0618-e465-411a-ac08-20805ca3e996",
   "metadata": {},
   "source": [
    "## Multiple inheritance is a feature in object-oriented programming languages, including Python, where a class can inherit attributes and methods from more than one base class."
   ]
  },
  {
   "cell_type": "code",
   "execution_count": 29,
   "id": "4c2bb818-1e72-419d-8b66-5e0ef1c6b82d",
   "metadata": {},
   "outputs": [],
   "source": [
    "class class1:\n",
    "    def c1(self):\n",
    "        return \"This is a meth from class1\""
   ]
  },
  {
   "cell_type": "code",
   "execution_count": 30,
   "id": "e6e76328-35cd-45c2-8331-e12df7d9233b",
   "metadata": {},
   "outputs": [],
   "source": [
    "class class2:\n",
    "    def c2(self):\n",
    "        return \"This is a meth from class2\""
   ]
  },
  {
   "cell_type": "code",
   "execution_count": 31,
   "id": "7d53dbf4-deb3-455f-866e-29e0fe6790ab",
   "metadata": {},
   "outputs": [],
   "source": [
    "class class3(class1,class2):\n",
    "    pass"
   ]
  },
  {
   "cell_type": "code",
   "execution_count": 32,
   "id": "5ab37549-7cf3-4a2c-8797-123d21447c22",
   "metadata": {},
   "outputs": [],
   "source": [
    "c3=class3()"
   ]
  },
  {
   "cell_type": "code",
   "execution_count": 33,
   "id": "2d10feb3-53a5-49cd-a805-456b0c41a350",
   "metadata": {},
   "outputs": [
    {
     "data": {
      "text/plain": [
       "'This is a meth from class1'"
      ]
     },
     "execution_count": 33,
     "metadata": {},
     "output_type": "execute_result"
    }
   ],
   "source": [
    "c3.c1()"
   ]
  },
  {
   "cell_type": "code",
   "execution_count": 34,
   "id": "4ef09e8e-e932-4471-a75f-65e9ca5b8b5e",
   "metadata": {},
   "outputs": [
    {
     "data": {
      "text/plain": [
       "'This is a meth from class2'"
      ]
     },
     "execution_count": 34,
     "metadata": {},
     "output_type": "execute_result"
    }
   ],
   "source": [
    "c3.c2()"
   ]
  },
  {
   "cell_type": "markdown",
   "id": "d6718508-4015-4de4-b1da-a578caed7f89",
   "metadata": {},
   "source": [
    "## Q4. What are getter and setter in python? Create a class and create a getter and a setter method in this class."
   ]
  },
  {
   "cell_type": "markdown",
   "id": "ef7ce4b2-71e6-4d04-a399-88b999a08617",
   "metadata": {},
   "source": [
    "## In Python, getters and setters are methods used to access and modify the private attributes of a class. They provide a way to encapsulate the access and modification of class attributes, allowing you to control how the attributes are accessed and updated."
   ]
  },
  {
   "cell_type": "code",
   "execution_count": 35,
   "id": "3580f74e-b40e-44cf-b4cc-412184b8eb9e",
   "metadata": {},
   "outputs": [],
   "source": [
    "class car:\n",
    "    def __init__(self,year,make,model,speed):\n",
    "        self.__year=year\n",
    "        self.__make=make\n",
    "        self.__model=model\n",
    "        self.__speed=0 if speed<0 else speed\n",
    "    def set_speed(self,speed):\n",
    "        self.__speed=0 if speed<0 else speed\n",
    "    def get_speed(self):\n",
    "        return self.__speed\n",
    "    def ret(self):\n",
    "        return  self.__year,self.__make,self.__model,self.__speed"
   ]
  },
  {
   "cell_type": "code",
   "execution_count": 36,
   "id": "661d9bf9-263b-4fbc-8ab0-55938ff6b12f",
   "metadata": {},
   "outputs": [],
   "source": [
    "c=car(2022,\"Toyota\",\"Inova\",100)"
   ]
  },
  {
   "cell_type": "code",
   "execution_count": 37,
   "id": "c0c0d69c-dea8-401e-bfd7-5ec71c1db1be",
   "metadata": {},
   "outputs": [],
   "source": [
    "c.set_speed(2000)"
   ]
  },
  {
   "cell_type": "code",
   "execution_count": 38,
   "id": "9a749808-b735-4548-86f3-1e66015d6e89",
   "metadata": {},
   "outputs": [
    {
     "data": {
      "text/plain": [
       "2000"
      ]
     },
     "execution_count": 38,
     "metadata": {},
     "output_type": "execute_result"
    }
   ],
   "source": [
    "c.get_speed()"
   ]
  },
  {
   "cell_type": "markdown",
   "id": "aaf87f25-e1e2-442b-ae04-e4e2a9c48a11",
   "metadata": {},
   "source": [
    "## Q5.What is method overriding in python? Write a python code to demonstrate method overriding."
   ]
  },
  {
   "cell_type": "markdown",
   "id": "f61aee14-8f61-4932-81b6-133c92cb09a4",
   "metadata": {},
   "source": [
    "## Method overriding in Python occurs when a subclass provides a specific implementation for a method that is already defined in its superclass. This allows the subclass to customize the behavior of the inherited method. "
   ]
  },
  {
   "cell_type": "code",
   "execution_count": 39,
   "id": "c51303e9-733d-4446-8e09-728e70f5316e",
   "metadata": {},
   "outputs": [
    {
     "name": "stdout",
     "output_type": "stream",
     "text": [
      "Generic animal sound\n",
      "Woof! Woof!\n",
      "Meow!\n"
     ]
    }
   ],
   "source": [
    "class Animal:\n",
    "    def make_sound(self):\n",
    "        print(\"Generic animal sound\")\n",
    "\n",
    "class Dog(Animal):\n",
    "    def make_sound(self):\n",
    "        print(\"Woof! Woof!\")\n",
    "\n",
    "class Cat(Animal):\n",
    "    def make_sound(self):\n",
    "        print(\"Meow!\")\n",
    "\n",
    "# Creating instances of the classes\n",
    "generic_animal = Animal()\n",
    "dog = Dog()\n",
    "cat = Cat()\n",
    "\n",
    "# Calling the make_sound method on each object\n",
    "generic_animal.make_sound()  # Output: Generic animal sound\n",
    "dog.make_sound()            # Output: Woof! Woof!\n",
    "cat.make_sound() "
   ]
  }
 ],
 "metadata": {
  "kernelspec": {
   "display_name": "Python 3 (ipykernel)",
   "language": "python",
   "name": "python3"
  },
  "language_info": {
   "codemirror_mode": {
    "name": "ipython",
    "version": 3
   },
   "file_extension": ".py",
   "mimetype": "text/x-python",
   "name": "python",
   "nbconvert_exporter": "python",
   "pygments_lexer": "ipython3",
   "version": "3.10.8"
  }
 },
 "nbformat": 4,
 "nbformat_minor": 5
}
