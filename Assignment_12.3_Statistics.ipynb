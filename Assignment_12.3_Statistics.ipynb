{
 "cells": [
  {
   "cell_type": "markdown",
   "id": "aec7500f-1852-406d-82ef-7ff1baf3bfc2",
   "metadata": {},
   "source": [
    "Q1. Explain the assumptions required to use ANOVA and provide examples of violations that could impact the validity of the results.\n",
    " Q2. What are the three types of ANOVA, and in what situations would each be used?\n",
    " Q3. What is the partitioning of variance in ANOVA, and why is it important to understand this concept?\n",
    " Q4. How would you calculate the total sum of squares (SST), explained sum of squares (SSE), and residual sum of squares (SSR) in a one-way ANOVA using Python?\n",
    " Q5. In a two-way ANOVA, how would you calculate the main effects and interaction effects using Python?\n",
    " Q6. Suppose you conducted a one-way ANOVA and obtained an F-statistic of 5.23 and a p-value of 0.02. What can you conclude about the differences between the groups, and how would you interpret these results?\n",
    " Q7. In a repeated measures ANOVA, how would you handle missing data, and what are the potential consequences of using different methods to handle missing data?\n",
    " Q8. What are some common post-hoc tests used after ANOVA, and when would you use each one? Provide an example of a situation where a post-hoc test might be necessary.\n",
    " Q9. A researcher wants to compare the mean weight loss of three diets: A, B, and C. They collect data from 50 participants who were randomly assigned to one of the diets. Conduct a one-way ANOVA using Python to determine if there are any significant differences between the mean weight loss of the three diets. Report the F-statistic and p-value, and interpret the results.\n",
    " Q10. A company wants to know if there are any significant differences in the average time it takes to complete a task using three different software programs: Program A, Program B, and Program C. They randomly assign 30 employees to one of the programs and record the time it takes each employee to complete the task. Conduct a two-way ANOVA using Python to determine if there are any main effects or interaction effects between the software programs and employee experience level (novice vs. experienced). Report the F-statistics and p-values, and interpret the results.\n",
    " Q11. An educational researcher is interested in whether a new teaching method improves student test scores. They randomly assign 100 students to either the control group (traditional teaching method) or the experimental group (new teaching method) and administer a test at the end of the semester. Conduct a two-sample t-test using Python to determine if there are any significant differences in test scores between the two groups. If the results are significant, follow up with a post-hoc test to determine which group(s) differ significantly from each other.\n",
    " Q12. A researcher wants to know if there are any significant differences in the average daily sales of three retail stores: Store A, Store B, and Store C. They randomly select 30 days and record the sales for each store on those days. Conduct a repeated measures ANOVA using Python to determine if there are any significant differences in sales between the three stores. If the results are significant, follow up with a post hoc test to determine which store(s) differ significantly from each other."
   ]
  },
  {
   "cell_type": "markdown",
   "id": "1d63ae9f-2436-425b-a488-f03c9e582025",
   "metadata": {},
   "source": [
    "Q1. Assumptions for ANOVA\n",
    "Assumptions:\n",
    "\n",
    "Independence: The samples must be independent of each other.\n",
    "Normality: The data in each group should be approximately normally distributed.\n",
    "Homogeneity of Variances (Homoscedasticity): The variances among the groups should be approximately equal.\n",
    "Examples of Violations:\n",
    "\n",
    "Independence: If data points within groups are related (e.g., repeated measures from the same subjects), it violates independence.\n",
    "Normality: If data in any group is heavily skewed or contains outliers, it can violate normality.\n",
    "Homogeneity of Variances: If one group has a much larger variance than others, it violates homogeneity of variances.\n",
    "\n",
    "\n",
    "Q2. Types of ANOVA\n",
    "One-Way ANOVA: Used when comparing the means of three or more independent groups based on one factor.\n",
    "Example: Comparing test scores of students from three different teaching methods.\n",
    "Two-Way ANOVA: Used when comparing means based on two factors, allowing for the assessment of interaction effects.\n",
    "Example: Comparing test scores based on teaching method and gender.\n",
    "Repeated Measures ANOVA: Used when the same subjects are measured multiple times under different conditions.\n",
    "Example: Measuring the effect of different diets on the same group of participants over several months.\n",
    "\n",
    "\n",
    "Q3. Partitioning of Variance in ANOVA\n",
    "Partitioning of Variance:\n",
    "\n",
    "Total Sum of Squares (SST): The total variability in the data.\n",
    "Between-Group Sum of Squares (SSB): The variability due to the differences between group means.\n",
    "Within-Group Sum of Squares (SSW): The variability within each group.\n",
    "Importance:\n",
    "Understanding partitioning helps in determining how much of the total variability is explained by the group differences versus random error, which is critical in assessing the significance of the group differences."
   ]
  },
  {
   "cell_type": "code",
   "execution_count": 1,
   "id": "54e0503c-36a8-4ec4-b519-cbe88e6181a8",
   "metadata": {},
   "outputs": [
    {
     "name": "stdout",
     "output_type": "stream",
     "text": [
      "SST: 1.9, SSB: 0.41200000000000075, SSW: Diet_A    0.748\n",
      "Diet_B    0.508\n",
      "Diet_C    0.232\n",
      "dtype: float64\n"
     ]
    }
   ],
   "source": [
    "# Q4. Calculating Sum of Squares in One-Way ANOVA using Python\n",
    "import numpy as np\n",
    "import pandas as pd\n",
    "from scipy import stats\n",
    "\n",
    "# Sample data\n",
    "data = {\n",
    "    'Diet_A': [2.5, 3.6, 2.9, 3.2, 2.7],\n",
    "    'Diet_B': [3.8, 3.1, 3.3, 3.7, 3.0],\n",
    "    'Diet_C': [2.9, 3.4, 3.1, 3.3, 3.5]\n",
    "}\n",
    "df = pd.DataFrame(data)\n",
    "\n",
    "# Calculating means\n",
    "overall_mean = df.values.flatten().mean()\n",
    "group_means = df.mean()\n",
    "\n",
    "# SST (Total Sum of Squares)\n",
    "sst = np.sum((df.values.flatten() - overall_mean) ** 2)\n",
    "\n",
    "# SSB (Between-Group Sum of Squares)\n",
    "ssb = sum(df.count() * (group_means - overall_mean) ** 2)\n",
    "\n",
    "# SSW (Within-Group Sum of Squares)\n",
    "ssw = np.sum((df - group_means) ** 2)\n",
    "\n",
    "print(f\"SST: {sst}, SSB: {ssb}, SSW: {ssw}\")"
   ]
  },
  {
   "cell_type": "code",
   "execution_count": null,
   "id": "512e2dae-6f91-4ca7-ac1a-679c6c986b13",
   "metadata": {},
   "outputs": [],
   "source": [
    "# Q5. Main Effects and Interaction Effects in Two-Way ANOVA using Python\n",
    "import pandas as pd\n",
    "import statsmodels.api as sm\n",
    "from statsmodels.formula.api import ols\n",
    "\n",
    "# Sample data\n",
    "data = {\n",
    "    'Software': ['A', 'A', 'B', 'B'],\n",
    "    'Experience': ['Novice', 'Experienced','no exp','fresher'] * 15,\n",
    "    'Time': [45, 40, 50, 45]\n",
    "}\n",
    "df = pd.DataFrame(data)\n",
    "\n",
    "# Two-way ANOVA\n",
    "model = ols('Time ~ C(Software) + C(Experience) + C(Software):C(Experience)', data=df).fit()\n",
    "anova_table = sm.stats.anova_lm(model, typ=2)\n",
    "\n",
    "print(anova_table)"
   ]
  },
  {
   "cell_type": "markdown",
   "id": "2a4982f7-4ad5-4ce9-9244-8d517c8a04f5",
   "metadata": {},
   "source": [
    "Q6. Interpreting One-Way ANOVA Results\n",
    "With an F-statistic of 5.23 and a p-value of 0.02:\n",
    "\n",
    "Since the p-value (0.02) is less than the significance level (0.05), we reject the null hypothesis.\n",
    "This indicates that there are significant differences between the group means.\n",
    "\n",
    "Q7. Handling Missing Data in Repeated Measures ANOVA\n",
    "Methods:\n",
    "\n",
    "Listwise Deletion: Removing subjects with any missing data.\n",
    "Pairwise Deletion: Using available data for each pairwise comparison.\n",
    "Imputation: Replacing missing data with estimated values.\n",
    "Mean Imputation: Replacing with the mean value of the group.\n",
    "Last Observation Carried Forward (LOCF): Using the last observed value.\n",
    "Consequences:\n",
    "\n",
    "Listwise Deletion: Loss of data, reduced statistical power.\n",
    "Pairwise Deletion: Can lead to biased results if missingness is not random.\n",
    "Imputation: Risk of introducing bias, especially if assumptions about the missing data mechanism are incorrect.\n",
    "Q8. Common Post-Hoc Tests after ANOVA\n",
    "Tukey's HSD: Used for pairwise comparisons when group sizes are equal.\n",
    "Bonferroni Correction: Adjusts significance levels for multiple comparisons.\n",
    "Scheffé Test: More conservative, used for complex comparisons.\n",
    "Example:\n",
    "\n",
    "If ANOVA shows significant differences among three diets, a post-hoc test like Tukey's HSD can identify which specific diets differ."
   ]
  }
 ],
 "metadata": {
  "kernelspec": {
   "display_name": "Python 3 (ipykernel)",
   "language": "python",
   "name": "python3"
  },
  "language_info": {
   "codemirror_mode": {
    "name": "ipython",
    "version": 3
   },
   "file_extension": ".py",
   "mimetype": "text/x-python",
   "name": "python",
   "nbconvert_exporter": "python",
   "pygments_lexer": "ipython3",
   "version": "3.10.8"
  }
 },
 "nbformat": 4,
 "nbformat_minor": 5
}
