{
 "cells": [
  {
   "cell_type": "markdown",
   "id": "cc75835b-1586-4032-acf8-e6eb9f3ef11b",
   "metadata": {},
   "source": [
    "# Q1. What is data encoding? How is it useful in data science?\n",
    "\n",
    "Ans\n",
    "\n",
    "\n",
    "Data encoding refers to the process of converting data from one form to another, typically from a human-readable format to a machine-readable format. In data science, encoding is essential for handling categorical variables, which are variables that can take on a limited, and usually fixed, number of possible values. Encoding categorical variables allows machine learning algorithms to work with such data, as most algorithms require numerical input."
   ]
  },
  {
   "cell_type": "markdown",
   "id": "191c072d-bec4-416c-9b13-a520333eff70",
   "metadata": {},
   "source": [
    "# Q2. What is nominal encoding? Provide an example of how you would use it in a real-world scenario.\n",
    "\n",
    "Ans\n",
    "\n",
    "\n",
    "Nominal encoding, also known as label encoding, assigns a unique integer value to each category in a categorical variable. For example, in a dataset where you have a categorical variable \"Color\" with categories \"Red,\" \"Blue,\" and \"Green,\" you would encode them as 0, 1, and 2, respectively.\n",
    "\n",
    "Real-world scenario: Suppose you have a dataset containing information about different types of fruits, including their colors. You could use nominal encoding to convert the categorical variable \"Color\" (with categories like \"Red,\" \"Yellow,\" \"Green,\" etc.) into numerical values (e.g., 0 for \"Red,\" 1 for \"Yellow,\" 2 for \"Green,\" and so on).\n",
    "\n"
   ]
  },
  {
   "cell_type": "markdown",
   "id": "08fdb913-d255-4ff2-ab9b-f2d37728e735",
   "metadata": {},
   "source": [
    "# Q3. In what situations is nominal encoding preferred over one-hot encoding? Provide a practical example.\n",
    "\n",
    "Ans\n",
    "\n",
    "\n",
    "Nominal encoding is preferred over one-hot encoding when the categorical variable has a large number of unique categories. One-hot encoding, which creates a binary column for each category, can lead to a high-dimensional and sparse dataset, making it inefficient in terms of memory and computation.\n",
    "\n",
    "Example: Consider a dataset containing information about different countries, where one of the features is \"Country of Origin.\" If there are hundreds or thousands of unique countries, using one-hot encoding would result in creating hundreds or thousands of additional columns, which could significantly increase the dimensionality of the dataset. In such cases, nominal encoding provides a more efficient representation.\n",
    "\n"
   ]
  },
  {
   "cell_type": "markdown",
   "id": "e17dd6e8-8fa3-44ca-93b8-6b3e506b0e59",
   "metadata": {},
   "source": [
    "# Q4. Suppose you have a dataset containing categorical data with 5 unique values. Which encoding technique would you use to transform this data into a format suitable for machine learning algorithms? Explain why you made this choice.\n",
    "\n",
    "Ans\n",
    "\n",
    "\n",
    "If the dataset contains categorical data with 5 unique values, I would use nominal encoding. Nominal encoding assigns a unique integer value to each category, which is suitable when the number of unique values is relatively small. One-hot encoding would also be feasible but might be considered overkill for only five unique values, as it would create five additional binary columns.\n",
    "\n"
   ]
  },
  {
   "cell_type": "markdown",
   "id": "b815972b-9838-4982-8b4f-efa561959d1d",
   "metadata": {},
   "source": [
    "# Q5. In a machine learning project, you have a dataset with 1000 rows and 5 columns. Two of the columns are categorical, and the remaining three columns are numerical. If you were to use nominal encoding to transform the categorical data, how many new columns would be created? Show your calculations.\n",
    "\n",
    "Ans\n",
    "\n",
    "\n",
    "If two columns are categorical and we're using nominal encoding, each categorical column will be replaced by a single column of integers. Therefore, two new columns would be created.\n",
    "\n"
   ]
  },
  {
   "cell_type": "markdown",
   "id": "d3b9309e-3752-4f57-9c9b-d5422fca34b6",
   "metadata": {},
   "source": [
    "# Q6. You are working with a dataset containing information about different types of animals, including their species, habitat, and diet. Which encoding technique would you use to transform the categorical data into a format suitable for machine learning algorithms? Justify your answer.\n",
    "\n",
    "Ans\n",
    "\n",
    "\n",
    "For the given dataset containing categorical variables like species, habitat, and diet, I would use one-hot encoding. Each categorical variable likely has multiple unique categories, and using one-hot encoding would create binary columns for each category, ensuring that the machine learning algorithm can interpret the categorical data properly without imposing ordinal relationships between categories, which might not exist in this context.\n",
    "\n"
   ]
  },
  {
   "cell_type": "markdown",
   "id": "ccec9747-e7a9-4b68-b664-73d91d8d04f7",
   "metadata": {},
   "source": [
    "# Q7. You are working on a project that involves predicting customer churn for a telecommunications company. You have a dataset with 5 features, including the customer's gender, age, contract type, monthly charges, and tenure. Which encoding technique(s) would you use to transform the categorical data into numerical data? Provide a step-by-step explanation of how you would implement the encoding.\n",
    "\n",
    "Ans\n",
    "\n",
    "\n",
    "For this scenario, I would use a combination of nominal encoding and possibly ordinal encoding, depending on the nature of the categorical variables:\n",
    "\n",
    "Gender: This is a nominal categorical variable with two categories (e.g., \"Male\" and \"Female\"). I would use nominal encoding, assigning 0 to one category and 1 to the other.\n",
    "\n",
    "Contract type: If the contract types have an inherent order (e.g., \"Month-to-Month,\" \"One Year,\" \"Two Year\"), I would use ordinal encoding, assigning integer values based on their order (e.g., 0 for \"Month-to-Month,\" 1 for \"One Year,\" 2 for \"Two Year\"). If there's no inherent order, I would use nominal encoding.\n",
    "\n",
    "Implementation:\n",
    "\n",
    "For nominal encoding: Use label encoding (assigning unique integers to each category).\n",
    "For ordinal encoding: Map each category to its corresponding integer value based on the order.\n",
    "Libraries like scikit-learn provide convenient functions (e.g., LabelEncoder) for nominal encoding and OrdinalEncoder for ordinal encoding.\n",
    "After encoding, concatenate the numerical features (including the encoded categorical features) to form the final dataset suitable for machine learning algorithms.\n"
   ]
  },
  {
   "cell_type": "markdown",
   "id": "170e8684-a512-4d07-bd55-5b8521978200",
   "metadata": {},
   "source": []
  },
  {
   "cell_type": "markdown",
   "id": "3c91dc33-0437-4e2c-95be-8c4ab86e0059",
   "metadata": {},
   "source": []
  },
  {
   "cell_type": "markdown",
   "id": "b08588cc-3394-4cd5-bdf4-06efc1a2c3eb",
   "metadata": {},
   "source": []
  },
  {
   "cell_type": "code",
   "execution_count": null,
   "id": "26fae1b7-8ae0-46ca-aac9-a79382144400",
   "metadata": {},
   "outputs": [],
   "source": []
  },
  {
   "cell_type": "code",
   "execution_count": null,
   "id": "8d35f6aa-a483-41a3-a277-a66ecfca9f64",
   "metadata": {},
   "outputs": [],
   "source": []
  },
  {
   "cell_type": "code",
   "execution_count": null,
   "id": "319ddea4-fb66-4cb1-bce2-48e429d733bc",
   "metadata": {},
   "outputs": [],
   "source": []
  },
  {
   "cell_type": "code",
   "execution_count": null,
   "id": "1d1d58d7-d74d-46ac-a5c2-6f38e0c9e08b",
   "metadata": {},
   "outputs": [],
   "source": []
  },
  {
   "cell_type": "code",
   "execution_count": null,
   "id": "7c34c214-9d78-4584-85f6-36da9b10301b",
   "metadata": {},
   "outputs": [],
   "source": []
  }
 ],
 "metadata": {
  "kernelspec": {
   "display_name": "Python 3 (ipykernel)",
   "language": "python",
   "name": "python3"
  },
  "language_info": {
   "codemirror_mode": {
    "name": "ipython",
    "version": 3
   },
   "file_extension": ".py",
   "mimetype": "text/x-python",
   "name": "python",
   "nbconvert_exporter": "python",
   "pygments_lexer": "ipython3",
   "version": "3.10.8"
  }
 },
 "nbformat": 4,
 "nbformat_minor": 5
}
