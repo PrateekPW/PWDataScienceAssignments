{
 "cells": [
  {
   "cell_type": "markdown",
   "id": "e7f254ce-1bf2-4b42-bd92-9aa6f86d85c5",
   "metadata": {},
   "source": [
    "## Q1. What is Abstraction in OOps? Explain with an example."
   ]
  },
  {
   "cell_type": "markdown",
   "id": "9ca4316b-9932-4143-b4a1-ecb282e06ee2",
   "metadata": {},
   "source": [
    "## Abstraction in object-oriented programming (OOP) is a fundamental concept that involves simplifying complex systems by modeling classes based on real-world entities and their essential characteristics. It is one of the four main principles of OOP, commonly known as the SOLID principles."
   ]
  },
  {
   "cell_type": "code",
   "execution_count": 1,
   "id": "a6974e84-5ff2-458a-9048-f3f5124507b7",
   "metadata": {},
   "outputs": [],
   "source": [
    "import abc\n",
    "class pwskills:\n",
    "    @abc.abstractmethod\n",
    "    def student_details(self):\n",
    "        pass\n",
    "    @abc.abstractmethod\n",
    "    def student_assignment(self):\n",
    "        pass\n",
    "    @abc.abstractmethod\n",
    "    def student_marks(self):\n",
    "        pass"
   ]
  },
  {
   "cell_type": "code",
   "execution_count": 2,
   "id": "0ba1afb2-0f77-4cd4-ae74-08fa7f699c41",
   "metadata": {},
   "outputs": [],
   "source": [
    "class std(pwskills):\n",
    "    def student_details(self):\n",
    "        return \"This is the method for student_details\"\n",
    "    def student_assignment(self):\n",
    "        return \"This is the method for student_assignments\"\n",
    "    def student_marks(self):\n",
    "        return \"This is the method for student_marks\""
   ]
  },
  {
   "cell_type": "code",
   "execution_count": 3,
   "id": "2fad88f2-1271-4aee-b3e9-8235e4bcd074",
   "metadata": {},
   "outputs": [],
   "source": [
    "c=std()"
   ]
  },
  {
   "cell_type": "code",
   "execution_count": 4,
   "id": "9ff19e46-3810-4da8-9b95-25791be42850",
   "metadata": {},
   "outputs": [
    {
     "data": {
      "text/plain": [
       "'This is the method for student_assignments'"
      ]
     },
     "execution_count": 4,
     "metadata": {},
     "output_type": "execute_result"
    }
   ],
   "source": [
    "c.student_assignment()"
   ]
  },
  {
   "cell_type": "code",
   "execution_count": 7,
   "id": "1399b2cf-4145-4b3b-9a6f-b25a2c4e8732",
   "metadata": {},
   "outputs": [
    {
     "data": {
      "text/plain": [
       "'This is the method for student_details'"
      ]
     },
     "execution_count": 7,
     "metadata": {},
     "output_type": "execute_result"
    }
   ],
   "source": [
    "c.student_details()"
   ]
  },
  {
   "cell_type": "code",
   "execution_count": 8,
   "id": "706eb0a7-c084-4098-8757-87430f0365af",
   "metadata": {},
   "outputs": [
    {
     "data": {
      "text/plain": [
       "'This is the method for student_marks'"
      ]
     },
     "execution_count": 8,
     "metadata": {},
     "output_type": "execute_result"
    }
   ],
   "source": [
    "c.student_marks()"
   ]
  },
  {
   "cell_type": "markdown",
   "id": "016308a5-e034-4b59-a2c6-9d1da00776f3",
   "metadata": {},
   "source": [
    "## Q2. Differentiate between Abstraction and Encapsulation. Explain with an example."
   ]
  },
  {
   "cell_type": "markdown",
   "id": "5367676f-ea8f-4a87-af15-18771e6ff254",
   "metadata": {},
   "source": [
    "## Ans> Abstraction:\n",
    "## Definition: Abstraction is the process of simplifying complex systems by modeling classes based on real-world entities and representing their essential characteristics. It involves focusing on what an object does rather than how it achieves its functionality.\n",
    "## Example: Consider a Vehicle class. The abstraction of a Vehicle may include essential characteristics like start(), stop(), and drive(). The users of the Vehicle class don't need to know the internal workings of these methods; they only interact with the high-level functionality.\n",
    "\n",
    "## Encapsulation:\n",
    "## Definition: Encapsulation is the bundling of data (attributes) and methods (functions) that operate on that data into a single unit known as a class. It involves restricting access to some of the object's components and only exposing what is necessary.\n",
    "## Example: Continuing with the Vehicle example, encapsulation would involve making the attributes (like engineType, fuelLevel) private, and providing public methods like start(), stop(), and getFuelLevel() to access or modify the state. This way, the internal details of how fuel level is managed are encapsulated within the class."
   ]
  },
  {
   "cell_type": "markdown",
   "id": "11f0e07f-9b73-476b-93ba-494ae8d11019",
   "metadata": {},
   "source": [
    "## Q3. What is abc module in python? Why is it used?"
   ]
  },
  {
   "cell_type": "markdown",
   "id": "c7c77067-aa50-4b2c-a4c4-277b7b119f82",
   "metadata": {},
   "source": [
    "## Ans> The abc module in Python stands for \"Abstract Base Classes.\" It provides the ABC (Abstract Base Class) meta-class and other utilities for creating abstract base classes. Abstract base classes are classes that cannot be instantiated on their own but serve as a basis for other classes.\n",
    "## The main purpose of the abc module is to support the creation and usage of abstract classes and abstract methods in Python."
   ]
  },
  {
   "cell_type": "markdown",
   "id": "9315e057-2192-462b-9db5-adc34a9fb4bd",
   "metadata": {},
   "source": [
    "## Q4. How can we achieve data abstraction?"
   ]
  },
  {
   "cell_type": "markdown",
   "id": "570ec57a-01ed-4be6-b46d-e07896df67f2",
   "metadata": {},
   "source": [
    "## Ans>Data abstraction in programming refers to the concept of hiding the complex implementation details of data structures and exposing only the necessary functionalities or operations. In object-oriented programming (OOP), data abstraction is often achieved through the use of abstract classes and interfaces."
   ]
  },
  {
   "cell_type": "markdown",
   "id": "1a75b2b9-86da-42df-bd7a-9bcd8c6f909d",
   "metadata": {},
   "source": [
    "## Q5. Can we create an instance of an abstract class? Explain your answer."
   ]
  },
  {
   "cell_type": "markdown",
   "id": "91dea4a9-820d-4b1b-b2dc-2a1f40c3305d",
   "metadata": {
    "tags": []
   },
   "source": [
    "## Ans> No, you cannot create an instance of an abstract class in Python. Abstract classes are meant to serve as a blueprint for other classes and cannot be instantiated on their own. They are designed to be subclassed, and it is the responsibility of the subclasses to provide concrete implementations for the abstract methods declared in the abstract class."
   ]
  }
 ],
 "metadata": {
  "kernelspec": {
   "display_name": "Python 3 (ipykernel)",
   "language": "python",
   "name": "python3"
  },
  "language_info": {
   "codemirror_mode": {
    "name": "ipython",
    "version": 3
   },
   "file_extension": ".py",
   "mimetype": "text/x-python",
   "name": "python",
   "nbconvert_exporter": "python",
   "pygments_lexer": "ipython3",
   "version": "3.10.8"
  }
 },
 "nbformat": 4,
 "nbformat_minor": 5
}
