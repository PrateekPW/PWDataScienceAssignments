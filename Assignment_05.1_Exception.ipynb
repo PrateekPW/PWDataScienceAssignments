{
 "cells": [
  {
   "cell_type": "markdown",
   "id": "19c3cfcd-4161-4b4d-9be8-8bafac333c90",
   "metadata": {},
   "source": [
    "## Q1. What is an Exception in python? Write the difference between Exceptions and syntax errors"
   ]
  },
  {
   "cell_type": "markdown",
   "id": "f14d8914-ee89-4f55-861d-d2e9d41f3c91",
   "metadata": {},
   "source": [
    "## Ans In Python, an exception is an event that occurs during the execution of a program and disrupts the normal flow of instructions."
   ]
  },
  {
   "cell_type": "markdown",
   "id": "b059e280-fa48-47e1-9631-283e72b3646a",
   "metadata": {},
   "source": [
    "## Syntax Errors,also known as parsing errors, occur when there is a mistake in the syntax of the code.\n",
    "## Exceptions are errors that occur during the execution of a program. Unlike syntax errors, exceptions are not detected by the parser but arise during the runtime."
   ]
  },
  {
   "cell_type": "markdown",
   "id": "0391c06b-ceee-4d5a-ad27-fe1d453348e2",
   "metadata": {},
   "source": [
    "##  Q2. What happens when an exception is not handled? Explain with an example"
   ]
  },
  {
   "cell_type": "markdown",
   "id": "2e1cd7ae-84b5-4f2c-a37d-d3d7ee7bdc5c",
   "metadata": {},
   "source": [
    "## Ans When an exception is not handled in Python, it results in the termination of the program, and an error message is displayed indicating the type of exception and the location in the code where the exception occurred."
   ]
  },
  {
   "cell_type": "code",
   "execution_count": 1,
   "id": "ec31089b-9123-45b0-98ea-e82898d6c053",
   "metadata": {},
   "outputs": [
    {
     "name": "stdout",
     "output_type": "stream",
     "text": [
      "Error: division by zero\n",
      "This line will be executed despite the exception.\n"
     ]
    }
   ],
   "source": [
    "try:\n",
    "    result = 10 / 0  # This line will raise a ZeroDivisionError\n",
    "except ZeroDivisionError as e:\n",
    "    print(f\"Error: {e}\")\n",
    "    \n",
    "print(\"This line will be executed despite the exception.\")"
   ]
  },
  {
   "cell_type": "markdown",
   "id": "c700dfe1-08c8-4b3f-af82-875257229580",
   "metadata": {},
   "source": [
    "## Q3. Which Python statements are used to catch and handle exceptions? Explain with an example"
   ]
  },
  {
   "cell_type": "markdown",
   "id": "3142996f-c9bd-4ad0-bdbc-1186485e556e",
   "metadata": {},
   "source": [
    "## In Python, the try, except, finally, and else statements are used for handling exceptions"
   ]
  },
  {
   "cell_type": "code",
   "execution_count": 2,
   "id": "85b25f85-7cef-4578-a7a6-3cea07433119",
   "metadata": {},
   "outputs": [
    {
     "name": "stdout",
     "output_type": "stream",
     "text": [
      "Error: division by zero\n",
      "This block will always be executed.\n"
     ]
    }
   ],
   "source": [
    "try:\n",
    "    result = 10 / 0  # Division by zero\n",
    "except ZeroDivisionError as e:\n",
    "    print(f\"Error: {e}\")\n",
    "finally:\n",
    "    print(\"This block will always be executed.\")"
   ]
  },
  {
   "cell_type": "markdown",
   "id": "1315d708-704f-414d-89a1-69f48fc3f4a3",
   "metadata": {},
   "source": [
    "## Q4. Explain with an example:\n",
    "## a try and else\n",
    "## b finally\n",
    "## c raise "
   ]
  },
  {
   "cell_type": "code",
   "execution_count": 1,
   "id": "7434173a-26b7-4cc6-bab8-dba5cb58dafe",
   "metadata": {},
   "outputs": [
    {
     "name": "stdout",
     "output_type": "stream",
     "text": [
      "Example 1:\n",
      "No error occurred. Result: 5.0\n",
      "Finally block: This will always be executed.\n",
      "\n",
      "Example 2:\n",
      "Error: division by zero\n",
      "Finally block: This will always be executed.\n"
     ]
    }
   ],
   "source": [
    "def divide_numbers(a, b):\n",
    "    try:\n",
    "        result = a / b  # This may raise a division error\n",
    "    except ZeroDivisionError as e:\n",
    "        print(f\"Error: {e}\")\n",
    "    else:\n",
    "        print(\"No error occurred. Result:\", result)\n",
    "    finally:\n",
    "        print(\"Finally block: This will always be executed.\")\n",
    "\n",
    "# Example 1: Division without error\n",
    "print(\"Example 1:\")\n",
    "divide_numbers(10, 2)\n",
    "\n",
    "print(\"\\nExample 2:\")\n",
    "divide_numbers(10, 0)"
   ]
  },
  {
   "cell_type": "markdown",
   "id": "09c92d28-e741-42f5-9f59-d0673a2fa6dd",
   "metadata": {},
   "source": [
    "## Q5. What are Custom Exceptions in python? Why do we need Custom Exceptions? Explain with an example."
   ]
  },
  {
   "cell_type": "markdown",
   "id": "30e75ef6-9f06-47da-967f-1af12d491c01",
   "metadata": {},
   "source": [
    "## In Python, custom exceptions, also known as user-defined exceptions, allow programmers to define their own exceptional events based on specific conditions in their code."
   ]
  },
  {
   "cell_type": "code",
   "execution_count": 2,
   "id": "cfe0979a-9b35-4b92-ba2e-7c0f865822b7",
   "metadata": {},
   "outputs": [
    {
     "name": "stdout",
     "output_type": "stream",
     "text": [
      "Error 'key2'\n"
     ]
    }
   ],
   "source": [
    "try:\n",
    "    d={\"key\":\"Sudg\",1:[1,23]}\n",
    "    print(d[\"key2\"])\n",
    "except KeyError as e:\n",
    "    print(\"Error\",e)"
   ]
  },
  {
   "cell_type": "markdown",
   "id": "d39e026a-53e1-47f4-a9c9-bec9aa3969b6",
   "metadata": {},
   "source": [
    "##  Q6. Create a custom exception class. Use this class to handle an exception."
   ]
  },
  {
   "cell_type": "code",
   "execution_count": 3,
   "id": "d86b4b5b-7dec-4c6e-a27b-35cf06b0eb0e",
   "metadata": {},
   "outputs": [
    {
     "name": "stdout",
     "output_type": "stream",
     "text": [
      "invalid literal for int() with base 10: 'Prateek'\n"
     ]
    }
   ],
   "source": []
  },
  {
   "cell_type": "code",
   "execution_count": null,
   "id": "7c581f5c-f660-4348-afea-641ea50951ab",
   "metadata": {},
   "outputs": [],
   "source": []
  }
 ],
 "metadata": {
  "kernelspec": {
   "display_name": "Python 3 (ipykernel)",
   "language": "python",
   "name": "python3"
  },
  "language_info": {
   "codemirror_mode": {
    "name": "ipython",
    "version": 3
   },
   "file_extension": ".py",
   "mimetype": "text/x-python",
   "name": "python",
   "nbconvert_exporter": "python",
   "pygments_lexer": "ipython3",
   "version": "3.10.8"
  }
 },
 "nbformat": 4,
 "nbformat_minor": 5
}
